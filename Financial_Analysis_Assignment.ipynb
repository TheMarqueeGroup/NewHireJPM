{
 "cells": [
  {
   "cell_type": "markdown",
   "id": "265f8f0b-bfe0-43ff-a51d-dde3e9fb5722",
   "metadata": {},
   "source": [
    "# New Hire Python Training - Day 2 Assignment 2 - Financial Analysis\n",
    "This Jupyter Notebook file is **Day 2 Assignment 2** of the J.P. Morgan New Hire PYthon Training. \n",
    "\n",
    "Beneath each blue <font color = 'blue'> **EXERCISE**</font>, there is a code cell that looks like this:"
   ]
  },
  {
   "attachments": {
    "image.png": {
     "image/png": "[encoded data removed]"
    }
   },
   "cell_type": "markdown",
   "id": "6fb2732f-d159-4a30-b74a-5c064e394687",
   "metadata": {},
   "source": [
    "### Exercise 1 - Linear Regression - Fama French Factor Model\n",
    "In this exercise you will practice performing linear regression using the Fama and French Three Factor Model, an asset pricing model that expands on the Capital Asset Pricing Model (CAPM) by adding size risk and value risk factors to the market risk factor in the CAPM. This model considers that value and small-cap stocks outperform markets on a regular basis.\n",
    "\n",
    "The general equation for the Fama-French model is: Rp-Rf  =α + β1 * MRP + β2 * SMB + β3 *HML\n",
    "\n",
    "![image.png](attachment:image.png)\n",
    "\n",
    "Where: rp – rf is the expected excess return of the portfolio or stock over the risk free rate; MRP is the market risk premium, SMB is the size premium, HML is the value premium, and β1,2,3 refer to the factor coefficients.\n",
    "\n",
    "1. Load the Apple stock data (AAPL.csv) and the Fama-French 3 Factor Daily data (ff3_daily.csv found in the ExData folder).\n",
    "2. Convert both dates to datetime.\n",
    "    - For Apple data specify the format as ‘%Y-%m-%d’.\n",
    "    - For Fama-French data specify the format as ‘%Y%m%d’.\n",
    "3. Calculate the daily simple returns for Apple using the adjusted close prices. Remember to scale the returns by 100 to match the Fama-French data.\t\n",
    "4. Merge the Apple returns and Fama-French data into a data frame named ‘data’.\n",
    "5. Drop all NAs.\n",
    "6. Calculate the excess returns for Apple (return minus risk-free rate) in a new column.\n",
    "7. Perform a linear regression using OLS with and without a constant (alpha). Interpret your results."
   ]
  },
  {
   "cell_type": "markdown",
   "id": "39aa1306-229f-481c-8e7a-b4e3ec13e925",
   "metadata": {},
   "source": [
    "<font color = 'blue'> **EXERCISE 1 SOLUTION** </font>"
   ]
  },
  {
   "cell_type": "code",
   "execution_count": 2,
   "id": "7496b18a-89f4-4dd6-95e9-6ab950083051",
   "metadata": {
    "tags": []
   },
   "outputs": [],
   "source": [
    "#%% Exercise 1"
   ]
  },
  {
   "attachments": {
    "image-2.png": {
     "image/png": "[encoded data removed]"
    }
   },
   "cell_type": "markdown",
   "id": "9ea59dcd-2c37-4dba-8fad-ce7afc97923c",
   "metadata": {},
   "source": [
    "### Exercise 2 - Linear Regression - Time Series SPX Volatility\n",
    "In this exercise you will practice performing time series regression using OLS.\n",
    "\n",
    "1. Load the SP500 volatility data (SP500_vol.csv located in ExData folder).\n",
    "2. Extract the ‘rtnClose’, ‘vol’, ‘vol_1’, ‘vol_ma_5’, ‘vol_ma_21’ columns into a data frame named ts500.\n",
    "3. Scale the returns and volatility by 100 and 10000 respectively and drop any na rows.\n",
    "4. Add a constant to the data frame.\n",
    "5. Perform a linear regression using OLS for the following equation: Vol_t=α+β_1 Vol_(t-1)+β_2 Vol_MA5+β_3 Vol_MA21\n",
    "\n",
    "![image-2.png](attachment:image-2.png)\n",
    "\n",
    "6. Interpret your results.\n",
    "7. Graph the actual (y) and the estimated (y ̂) on the same chart.\n"
   ]
  },
  {
   "cell_type": "markdown",
   "id": "9eed87e5-7f0e-4803-8f44-4fcf8288a3e6",
   "metadata": {},
   "source": [
    "<font color = 'blue'> **EXERCISE 2 SOLUTION** </font>"
   ]
  },
  {
   "cell_type": "code",
   "execution_count": 1,
   "id": "4832096b-359d-474a-bd5a-08639922405a",
   "metadata": {
    "tags": []
   },
   "outputs": [],
   "source": [
    "#%% Exercise 2"
   ]
  },
  {
   "cell_type": "markdown",
   "id": "bb59b675-fc2e-4a5d-a9bd-eba1912879ed",
   "metadata": {},
   "source": [
    "## Advanced Question"
   ]
  },
  {
   "cell_type": "markdown",
   "id": "819fce04-16c3-4544-b860-e61b3ecf6bad",
   "metadata": {},
   "source": [
    "### Exercise 3 - Portfolio Optimization\n",
    "In this exercise you will practice performing portfolio optimization with the scipy package. Feel free to reuse the codes from the Session 2 demo codes of Week 2 ADAPT program.\n",
    "\n",
    "Find the optimal portfolio weights in the following securities using the daily adjusted closing prices from the StockData folder. Find the weights for the minimum variance portfolio on the efficient frontier and also for a portfolio with an expected annual return of 15%. Assume no short-selling is allow (weights >= 0 and <=1).\n",
    "\n",
    "tickers = ['NKE', 'KO', 'MCD', 'WMT', 'AAPL']\n",
    "\n",
    "Use the steps below to help you with the solution.\n",
    "\n",
    "*Challenge: Re-run the analysis for multiple expected returns (12%, 14%, 16%... 28%) and plot the efficient frontier.*"
   ]
  },
  {
   "cell_type": "markdown",
   "id": "af55c12a-b908-4ce0-886b-dc3d8c33122e",
   "metadata": {},
   "source": [
    "<font color = 'blue'> **EXERCISE 3 SOLUTION** </font>"
   ]
  },
  {
   "cell_type": "markdown",
   "id": "009e9709-2dc1-4cb6-8144-bb38c8f26da5",
   "metadata": {},
   "source": [
    "1. Import pandas and the minimize function from scipy.optimize package."
   ]
  },
  {
   "cell_type": "code",
   "execution_count": 45,
   "id": "7224404e-93f9-448c-98a8-7b36764a0540",
   "metadata": {},
   "outputs": [],
   "source": [
    "#%% Exercise 6\n",
    "import pandas as pd\n",
    "from scipy.optimize import minimize\n",
    "import numpy as np"
   ]
  },
  {
   "cell_type": "markdown",
   "id": "69d407eb-e341-4d43-b9c8-dbce8514f586",
   "metadata": {},
   "source": [
    "2. Load the csv files of Nike (NKE), Coca-Cola (KO), McDonald's (MCD), Walmart (WMT) and Apple (AAPL). Calculate the daily returns using the Adjusted Close and combine all the returns columns of each security into a single table.\n",
    "- create an empty list to store all the returns of each ticker\n",
    "- loop through a list of the tickers to help automate reading the files\n",
    "- while reading the files, parse the dates and set the index column to Date\n",
    "- calculate the daily returns using the Adj Close; multiply the returns by 100 to show them in %\n",
    "- append just the returns column to the empty list\n",
    "- concat the list of all the returns columns using pd.concat() with axis=1: stockData = pd.concat(listVariable, axis = 1)\n",
    "    - the axis = 1 ensures the columns are side by side and not stacked on top of each other\n",
    "- rename the columns of the combined dataframe to the tickers imported (e.g. AAPL column should have the AAPL returns, etc.)"
   ]
  },
  {
   "cell_type": "code",
   "execution_count": 7,
   "id": "9563e12d-bdef-4903-b44e-b28dd612163b",
   "metadata": {},
   "outputs": [],
   "source": [
    "# Tickers to load\n",
    "tickers = ['NKE', 'KO', 'MCD', 'WMT', 'AAPL']\n",
    "\n",
    "# Load all tickers and keep daily returns\n"
   ]
  },
  {
   "cell_type": "code",
   "execution_count": 8,
   "id": "3067f136-999d-4e4d-a1f2-b64394f757ff",
   "metadata": {},
   "outputs": [],
   "source": [
    "# Combine all ticker returns into one dataframe\n"
   ]
  },
  {
   "cell_type": "markdown",
   "id": "90490283-20a2-4db9-9ccb-98b59b2ad9f4",
   "metadata": {},
   "source": [
    "3. Extract all the key stats of the data set into the following variables:\n",
    "- mu - will keep track of all the average daily returns of each ticker\n",
    "- V - will keep track of the covariance matrix of all the tickers (use stockData.cov())\n",
    "- std - will keep track of the standard deviations of the daily returns of each ticker\n",
    "- n - number of securities being analyzed"
   ]
  },
  {
   "cell_type": "code",
   "execution_count": 9,
   "id": "fe059b3d-b270-4410-9af1-1eccb782e157",
   "metadata": {},
   "outputs": [],
   "source": [
    "# Covariance, Average Returns and Standard Deviations\n"
   ]
  },
  {
   "cell_type": "markdown",
   "id": "fba9b36a-9988-4518-a798-574f620add9e",
   "metadata": {},
   "source": [
    "4. Create a summary dataframe that shows the following columns:\n",
    "- The index with the list of tickers\n",
    "- The STD of daily returns\n",
    "- The daily average returns\n",
    "- A new calculated field showing the annual returns (use 252 trading days as the assumption)\n",
    "- A new calculated field showing the std of annual returns (multiple the daily STD by the square root of 252)"
   ]
  },
  {
   "cell_type": "code",
   "execution_count": 10,
   "id": "f40d69f0-85b6-4d66-8853-ae4c8d0f64df",
   "metadata": {},
   "outputs": [],
   "source": [
    "# Create Summary Table\n"
   ]
  },
  {
   "cell_type": "markdown",
   "id": "ed118f06-7a59-49f7-9025-a0eccdcc10c3",
   "metadata": {},
   "source": [
    "5. Set up the parameters for the optimization model:\n",
    "- w: variable to keep track of initial guesses for the weights (create a matrix or list of equal weights for each security) \n",
    "- minimization function: use the simplified variance function using matrices (dot product of weights transposed, covariance matrix, and weights)\n",
    "    - ensure the first argument of the function are the weights\n",
    "    - modify the function to calculate the annual variance by multiplying the result by 252\n",
    "- portfolio return function: create a function that calculates the annual portfolio return by using the weights and the average daily returns of each security\n",
    "- Constraint 1: sum of all weights should be 1\n",
    "- Constraint 2: calculated portfolio annual return should meet or exceed a target/hurdle annual return\n",
    "- Bounds: limit the portfolio weights of each security to be between 0 and 1 (no short selling) \n",
    "    - use a tuple of (min, max) pairs for each security\n",
    "- expect_return: variable to keep track of required annual return of 15%"
   ]
  },
  {
   "cell_type": "code",
   "execution_count": null,
   "id": "5c4a0a80-e4da-4d19-b0de-c8c7796a0bd6",
   "metadata": {},
   "outputs": [],
   "source": [
    "#Set up Optimization Model\n",
    "\n",
    "\n",
    "#Minimization function\n",
    "\n",
    "\n",
    "#Portfolio return function \n",
    "\n",
    "\n",
    "#Bounds no short selling\n",
    "\n",
    "\n",
    "#Constraints\n",
    "\n"
   ]
  },
  {
   "cell_type": "markdown",
   "id": "77a8e472-9e0a-4813-bf2d-6b1788b24d71",
   "metadata": {},
   "source": [
    "6. Run two different optimization models:\n",
    "- one with only Constraint 1, to find the minimum variance portfolio\n",
    "- one with both constraints and expected annual return of 15%\n",
    "\n",
    "For each portfolio analyze the results and print out the calculated portfolio annual return, weights in each security and portfolio standard deviation of annual returns (square root of the variance from optimization model)."
   ]
  },
  {
   "cell_type": "code",
   "execution_count": 11,
   "id": "8804a957-5d6e-40d8-ae28-7b196d792bbc",
   "metadata": {},
   "outputs": [],
   "source": [
    "#Model with no expected return - minimum variance portfolio\n"
   ]
  },
  {
   "cell_type": "code",
   "execution_count": 12,
   "id": "c62b674c-d416-45f8-84db-e5df50615590",
   "metadata": {},
   "outputs": [],
   "source": [
    "#Model with expected return\n"
   ]
  },
  {
   "cell_type": "markdown",
   "id": "49f0c4cf-9d89-44f7-9b59-3a4396e02e0f",
   "metadata": {},
   "source": [
    "Challenge steps:\n",
    "- create a list of target annual returns (between 12% and 28%)\n",
    "- create empty lists to track the portfolio annual returns, standard deviations, and security weights for each iteration of the model\n",
    "- loop through all the target annual returns and run the model with the updated Constraint 2 in each iteration\n",
    "- append the results to the empty lists in each loop\n",
    "- create a summary table showing all the model results\n",
    "\n",
    "Plotting the efficient frontier\n",
    "- reuse the code from class to plot:\n",
    "    - the annual expected returns and standard deviations of each security from the summary dataframe\n",
    "    - the annual expected returns and standard deviations of each optimal portfolio\n",
    "    - plot the risk (std) on the x-axis and the returns on the y-axis"
   ]
  },
  {
   "cell_type": "code",
   "execution_count": 13,
   "id": "c6789039-01ba-44e0-9677-22e182d8bb33",
   "metadata": {},
   "outputs": [],
   "source": [
    "#%% Challenge: Re-run the optimization model for multiple target returns\n",
    "\n",
    "\n",
    "#Summary Table of Results\n"
   ]
  },
  {
   "cell_type": "code",
   "execution_count": 14,
   "id": "3fd12373-ed63-4033-ae36-3dd3f61424c6",
   "metadata": {},
   "outputs": [],
   "source": [
    "#Plot of Portfolio Efficient Frontier\n"
   ]
  }
 ],
 "metadata": {
  "header": "# Id:          $Id: $\n# Copyright:   2023 J.P. Morgan Chase & Co. Incorporated.  All rights reserved.\n# Type:        research\n# Group:       AthenaAnalystTraining\n# Flags:       py3\n# Description: Jupyter notebook created by bogdan.tudose\n\n",
  "kernelspec": {
   "display_name": "Athena 3.7",
   "language": "python",
   "name": "athena_py3"
  },
  "language_info": {
   "codemirror_mode": {
    "name": "ipython",
    "version": 3
   },
   "file_extension": ".py",
   "mimetype": "text/x-python",
   "name": "python",
   "nbconvert_exporter": "python",
   "pygments_lexer": "ipython3",
   "version": "3.7.9"
  }
 },
 "nbformat": 4,
 "nbformat_minor": 5
}