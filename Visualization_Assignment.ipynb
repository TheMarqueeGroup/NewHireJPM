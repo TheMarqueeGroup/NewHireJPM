{
 "cells": [
  {
   "cell_type": "markdown",
   "id": "9f9c52ee-bcd4-4515-a2d7-1b1a64dcfca4",
   "metadata": {},
   "source": [
    "# New Hire Python Training - Day 2 Assignment 1 - Visualizations\n",
    "This Jupyter Notebook file is **Day 2 Assignment 2** of the J.P. Morgan New Hire PYthon Training. \n",
    "\n",
    "Beneath each blue <font color = 'blue'> **EXERCISE**</font>, there is a code cell that looks like this:"
   ]
  },
  {
   "cell_type": "markdown",
   "id": "ba16aefa",
   "metadata": {},
   "source": [
    "### Import Packages\n",
    "- by default plotly charts will be shown below Jupyter Notebook cell blocks\n",
    "- as an alternative you can uncomment the last two lines below to show the plotly graphs in their own tabs in your browser"
   ]
  },
  {
   "cell_type": "code",
   "execution_count": 1,
   "id": "f8d06ac2",
   "metadata": {},
   "outputs": [],
   "source": [
    "#%% Import Packages\n",
    "import matplotlib.pyplot as plt\n",
    "import plotly.express as px\n",
    "import pandas as pd"
   ]
  },
  {
   "cell_type": "markdown",
   "id": "7d96a1da",
   "metadata": {},
   "source": [
    "### Exercise 1 – Time Series\n",
    "\n",
    "In this exercise you will practice plotting time series data, annotating and labeling graphs. \n",
    "1. Load the Apple stock data stored in AAPL.csv into a pandas data frame.\n",
    "    - Set the index to be DateTime type.\n",
    "2. Plot the 'Adj Close' as a time series plot using plotly express .line().\n",
    "3. Label the title along with the X and Y axis.\n",
    "4. Find the global minimum and maximum. Store these values in variables so that you can annotate them on the graph.\n",
    "    - Use .min() and .max() methods to find the values.\n",
    "    - Use the .idxmin() and .idxmax() to find the location (date).\n",
    "    \n",
    "Challenge: Find and annotate the min and max for each year. This can be done in a loop.\n",
    "\n",
    "Documentation for annotations: https://plotly.com/python/reference/layout/annotations/"
   ]
  },
  {
   "cell_type": "code",
   "execution_count": 1,
   "id": "4f2cf962",
   "metadata": {
    "tags": []
   },
   "outputs": [],
   "source": [
    "#Plotly Solution"
   ]
  },
  {
   "cell_type": "markdown",
   "id": "eacd73f0",
   "metadata": {},
   "source": [
    "#### Challenge with Plotly"
   ]
  },
  {
   "cell_type": "code",
   "execution_count": 2,
   "id": "6ca56d3f",
   "metadata": {
    "tags": []
   },
   "outputs": [],
   "source": [
    "#Challenge with Plotly"
   ]
  },
  {
   "cell_type": "markdown",
   "id": "3a950baf",
   "metadata": {},
   "source": [
    "#### Answer with Matplotlib"
   ]
  },
  {
   "cell_type": "code",
   "execution_count": 3,
   "id": "02a498df",
   "metadata": {
    "scrolled": true,
    "tags": []
   },
   "outputs": [],
   "source": [
    "#matplotlib solution\n"
   ]
  },
  {
   "cell_type": "markdown",
   "id": "1968e8b6",
   "metadata": {},
   "source": [
    "#### Challenge with Matplotlib"
   ]
  },
  {
   "cell_type": "code",
   "execution_count": 4,
   "id": "38968fa3",
   "metadata": {
    "tags": []
   },
   "outputs": [],
   "source": [
    "#challenge with matplotlib"
   ]
  },
  {
   "cell_type": "markdown",
   "id": "07f5fa4e",
   "metadata": {},
   "source": [
    "### Exercise 2 – Multiple Graphs\n",
    "\n",
    "In this exercise you will practice creating multiple plots using subplots.\n",
    "1. Load the stock data for the following tickers: S&P500, AAPL, AXP, BA, CAT, CSCO.\n",
    "    - Set the index to be DateTime type.\n",
    "2. Create a subplot with 3 rows and 2 columns.\n",
    "3. Plot the ‘Adj Close’ for each ticker.\n",
    "    - Remember to set the title and label the y-axis of each graph.\n",
    "\n",
    "Challenge: Use loops to automate the process to load the data, concatenate into a single data frame. Below are some code snippets and hints to help.\n",
    "\n",
    "Documentation for subplots: https://plotly.com/python/subplots/"
   ]
  },
  {
   "cell_type": "code",
   "execution_count": 7,
   "id": "855cdb45",
   "metadata": {
    "tags": []
   },
   "outputs": [],
   "source": [
    "from plotly.subplots import make_subplots"
   ]
  },
  {
   "cell_type": "code",
   "execution_count": 9,
   "id": "6c8bd2e0",
   "metadata": {
    "tags": []
   },
   "outputs": [],
   "source": [
    "#import files"
   ]
  },
  {
   "cell_type": "code",
   "execution_count": 5,
   "id": "d1b82cf0",
   "metadata": {
    "tags": []
   },
   "outputs": [],
   "source": [
    "#create grid of graphs"
   ]
  },
  {
   "cell_type": "markdown",
   "id": "2fb394cc",
   "metadata": {},
   "source": [
    "#### Challenge"
   ]
  },
  {
   "cell_type": "code",
   "execution_count": 6,
   "id": "9d3d4372",
   "metadata": {
    "tags": []
   },
   "outputs": [],
   "source": [
    "#challenge with Plotly"
   ]
  },
  {
   "cell_type": "markdown",
   "id": "de3d07d3",
   "metadata": {},
   "source": [
    "#### Challenge with Matplotlib"
   ]
  },
  {
   "cell_type": "code",
   "execution_count": 7,
   "id": "d62040d6",
   "metadata": {
    "tags": []
   },
   "outputs": [],
   "source": [
    "#solution with matplotlib"
   ]
  },
  {
   "cell_type": "markdown",
   "id": "4402d323",
   "metadata": {},
   "source": [
    "### Exercise 3 – Box Plots & Histograms\n",
    "\n",
    "In this exercise you will practice creating box plots and histograms with plotly (try seaborn as well for the box plots).\n",
    "1. Load the stock data for the following tickers: S&P500, AAPL, AXP, BA, CAT, CSCO.\n",
    "2. Calculate the daily returns for each of the tickers and merge all the tables into one DataFrame.\n",
    "3. Use plotly’s .box() function to create box plots of the returns for all the tickers.\n",
    "4. Use plotly’s .histogram() function to create multiple histograms of the returns of all tickers\n",
    "    - Experiment with adding the function argument facet_col or facet_row to show the histograms side by side or on top of each other.\n"
   ]
  },
  {
   "cell_type": "markdown",
   "id": "e7842297",
   "metadata": {},
   "source": [
    "#### Boxplots with Plotly"
   ]
  },
  {
   "cell_type": "code",
   "execution_count": 8,
   "id": "ed9e6879",
   "metadata": {
    "tags": []
   },
   "outputs": [],
   "source": [
    "#Solution with plotly\n"
   ]
  },
  {
   "cell_type": "markdown",
   "id": "12641ee1",
   "metadata": {},
   "source": [
    "#### Boxplots with Seaborn"
   ]
  },
  {
   "cell_type": "code",
   "execution_count": 9,
   "id": "327e8257",
   "metadata": {
    "tags": []
   },
   "outputs": [],
   "source": [
    "# solution with seaborn"
   ]
  },
  {
   "cell_type": "markdown",
   "id": "5c54ecfa",
   "metadata": {},
   "source": [
    "#### Histograms with Plotly"
   ]
  },
  {
   "cell_type": "code",
   "execution_count": 10,
   "id": "e1076ba2",
   "metadata": {
    "tags": []
   },
   "outputs": [],
   "source": [
    "#Solution with plotly"
   ]
  }
 ],
 "metadata": {
  "header": "# Id:          $Id: $\n# Copyright:   2023 J.P. Morgan Chase & Co. Incorporated.  All rights reserved.\n# Type:        research\n# Group:       AthenaAnalystTraining\n# Flags:       py3\n# Description: Jupyter notebook created by bogdan.tudose\n\n",
  "kernelspec": {
   "display_name": "Athena 3.7",
   "language": "python",
   "name": "athena_py3"
  },
  "language_info": {
   "codemirror_mode": {
    "name": "ipython",
    "version": 3
   },
   "file_extension": ".py",
   "mimetype": "text/x-python",
   "name": "python",
   "nbconvert_exporter": "python",
   "pygments_lexer": "ipython3",
   "version": "3.7.9"
  }
 },
 "nbformat": 4,
 "nbformat_minor": 5
}