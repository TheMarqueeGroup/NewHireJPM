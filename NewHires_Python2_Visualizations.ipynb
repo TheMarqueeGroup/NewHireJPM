{
 "cells": [
  {
   "cell_type": "markdown",
   "metadata": {},
   "source": [
    "# New Hire Training - Python Fundamentals: Day 2 Lesson Codes - Visualizations\n",
    "This Jupyter Notebook file is a summary of codes demonstrated in class by The Marquee Group during the J.P. Morgan New Hire Training."
   ]
  },
  {
   "cell_type": "markdown",
   "metadata": {},
   "source": [
    "## Session 1 – Visualization\n",
    "\n",
    "This session will provide an overview of popular visualization packages in Python including matplotlib, Seaborn, and Plotly. During the session participants will:\n",
    "- Develop the ability to create powerful visualizations using the matplotlib and seaborn packages\n",
    "- Plot and interpret scatterplots and time series plots\n",
    "- Format settings of graphs\n",
    "- Learn to create and interpret more advanced graphs such as histograms, box plots and volatility surface charts\n",
    "- Create interactive charts with Plotly Express that can be exported as shareable web html files or hosted online"
   ]
  },
  {
   "cell_type": "markdown",
   "metadata": {},
   "source": [
    "### <font color = 'blue'> **Section 1 - Importing Packages and Data** </font>"
   ]
  },
  {
   "cell_type": "code",
   "execution_count": 4,
   "metadata": {
    "tags": []
   },
   "outputs": [],
   "source": [
    "import pandas as pd\n",
    "import matplotlib.pyplot as plt\n",
    "import seaborn as sns\n",
    "import plotly.express as px"
   ]
  },
  {
   "cell_type": "code",
   "execution_count": 6,
   "metadata": {
    "tags": []
   },
   "outputs": [],
   "source": [
    "sp500 = pd.read_csv(\"ADAPT2021/StockData/SP500.csv\", parse_dates=['Date'], index_col=['Date'])\n",
    "aapl = pd.read_csv(\"ADAPT2021/StockData/AAPL.csv\", parse_dates=['Date'], index_col=['Date'])"
   ]
  },
  {
   "cell_type": "code",
   "execution_count": 3,
   "metadata": {},
   "outputs": [],
   "source": [
    "#%% Calculating Returns\n",
    "sp500['Returns'] = sp500['Close'] / sp500['Close'].shift(1) - 1\n",
    "    #daily return (Close/Prev Close) - 1\n",
    "\n",
    "aapl['Returns'] = aapl['Close'].pct_change()"
   ]
  },
  {
   "cell_type": "markdown",
   "metadata": {},
   "source": [
    "### <font color = 'blue'> **Section 2 - Simple Visualizations with Pandas** </font>"
   ]
  },
  {
   "cell_type": "markdown",
   "metadata": {},
   "source": [
    "#### Line Graph from Pandas Column"
   ]
  },
  {
   "cell_type": "code",
   "execution_count": 4,
   "metadata": {},
   "outputs": [],
   "source": [
    "#%% Visualizations\n",
    "#pandas has a built-in formula\n",
    "sp500['Close'].plot()"
   ]
  },
  {
   "cell_type": "markdown",
   "metadata": {},
   "source": [
    "#### Multiple Line Graphs on same Plot\n",
    "- You can keep adding .plot formulas to plot on the same graph"
   ]
  },
  {
   "cell_type": "code",
   "execution_count": 5,
   "metadata": {},
   "outputs": [],
   "source": [
    "sp500['Close'].plot()\n",
    "aapl['High'].plot()\n",
    "plt.show()"
   ]
  },
  {
   "cell_type": "markdown",
   "metadata": {},
   "source": [
    "### <font color = 'blue'> **Section 3 - Simple Visualizations with MatplotLib** </font>"
   ]
  },
  {
   "cell_type": "markdown",
   "metadata": {},
   "source": [
    "- Using Matplotlib, you can customize the title, legend, axis labels, etc.\n",
    "- plt.title(), plt.xlabel(), plt.ylabel(), plt.legend()\n",
    "- https://matplotlib.org/3.1.0/gallery/showcase/anatomy.html"
   ]
  },
  {
   "cell_type": "code",
   "execution_count": 6,
   "metadata": {},
   "outputs": [],
   "source": [
    "#%% Simple Visualization\n",
    "# dataframe[column].plot()\n",
    "# changes to the graph settings\n",
    "# plt.show()\n",
    "sp500['Close'].plot()\n",
    "plt.ylabel(\"Index Close Price\")\n",
    "plt.title(\"S&P 500 (Yahoo Finance)\")\n",
    "plt.xlabel(\"Closing Date\")\n",
    "plt.show()"
   ]
  },
  {
   "cell_type": "markdown",
   "metadata": {},
   "source": [
    "### <font color = 'blue'> **Section 4 - Annotated Line Chart with MatplotLib** </font>"
   ]
  },
  {
   "cell_type": "code",
   "execution_count": 7,
   "metadata": {},
   "outputs": [],
   "source": [
    "#With Annotations\n",
    "#max share price\n",
    "maxPrice = sp500['Close'].max()\n",
    "minPrice = sp500['Close'].min()\n",
    "#dates when the max and min happened ---> use .idxmax() and .idxmin()\n",
    "maxDate = sp500['Close'].idxmax()\n",
    "minDate = sp500['Close'].idxmin()"
   ]
  },
  {
   "cell_type": "code",
   "execution_count": 8,
   "metadata": {},
   "outputs": [],
   "source": [
    "sp500['Close'].plot()\n",
    "# aapl['Close'].plot()\n",
    "plt.ylabel(\"Index Close Price\")\n",
    "plt.title(\"S&P 500 (Yahoo Finance)\")\n",
    "plt.xlabel(\"Closing Date\")\n",
    "\n",
    "#Add some annotations\n",
    "#Plot the max and min share price in this time period\n",
    "    #need the x,y coordinates of the annotations\n",
    "plt.plot(maxDate, maxPrice, color='green', marker='o')\n",
    "plt.plot(minDate, minPrice, color='red', marker='D')   \n",
    "    #matplotlib marker\n",
    "    #https://matplotlib.org/3.1.0/api/markers_api.html\n",
    "    \n",
    "#plot the labels using .annotate(xy=(location of the marker), xytext=(location of the label))\n",
    "        #DateOFfset adds #of days to a DateTime variable\n",
    "plt.annotate(\"High\",xy=(maxDate,maxPrice),xytext=(pd.to_datetime(\"2015-05-01\"), 2800),\n",
    "             arrowprops=dict(facecolor='black',shrink=0.05))\n",
    "plt.annotate(\"Low\",xy=(minDate,minPrice),\n",
    "             xytext=(minDate + pd.DateOffset(50), minPrice + 10))\n",
    "\n",
    "plt.show()"
   ]
  },
  {
   "cell_type": "markdown",
   "metadata": {},
   "source": [
    "### <font color = 'blue'> **Section 5 - Multiple Line Charts** </font>"
   ]
  },
  {
   "cell_type": "code",
   "execution_count": 9,
   "metadata": {},
   "outputs": [],
   "source": [
    "#%% Multiple line charts\n",
    "sp500['Close'].plot()\n",
    "# aapl['Close'].plot()\n",
    "plt.plot(aapl.index, aapl['Close'], color='red')\n",
    "plt.legend(['S&P 500','Apple Inc'])\n",
    "plt.show()"
   ]
  },
  {
   "cell_type": "code",
   "execution_count": 10,
   "metadata": {},
   "outputs": [],
   "source": [
    "#%% Multiple line charts seperate graphs\n",
    "#create each individual graph and then plot them together\n",
    "# plt.subplot(a, b, c); a = num of rows, b= num of cols, c = graph #\n",
    "\n",
    "jnj = pd.read_csv(\"ADAPT2021/StockData/JNJ.csv\", parse_dates=['Date'], index_col=['Date'])\n",
    "jpm = pd.read_csv(\"ADAPT2021/StockData/JPM.csv\", parse_dates=['Date'], index_col=['Date'])\n",
    "\n",
    "numChartRows = 2\n",
    "numChartCols = 2\n",
    "\n",
    "plt.figure(figsize=(10, 6))\n",
    "\n",
    "plt.subplot(numChartRows,numChartCols,1)\n",
    "plt.plot(sp500.index,sp500['Close'])\n",
    "plt.title(\"S&P Close\")\n",
    "\n",
    "plt.subplot(numChartRows,numChartCols,2)\n",
    "plt.plot(aapl.index,aapl['Close'])\n",
    "plt.title(\"AAPL\")\n",
    "\n",
    "plt.subplot(numChartRows,numChartCols,3)\n",
    "plt.plot(jnj.index,jnj['Close'])\n",
    "plt.title(\"JNJ\")\n",
    "\n",
    "plt.subplot(numChartRows,numChartCols,4)\n",
    "plt.plot(jpm.index,jpm['Close'])\n",
    "plt.title(\"JPM\")\n",
    "\n",
    "# plt.ylim(bottom=0,top=aapl['Close'].max())\n",
    "\n",
    "plt.tight_layout() #tries to fit in the charts when resizing\n",
    "plt.show()"
   ]
  },
  {
   "cell_type": "code",
   "execution_count": 11,
   "metadata": {},
   "outputs": [],
   "source": [
    "#%% Multiple line charts diff Y-Axis\n",
    "\n",
    "# x, y = 10, 20\n",
    "# def fnCubeSquare(x):\n",
    "#     return x**3, x**2\n",
    "\n",
    "fig, ax1 = plt.subplots()\n",
    "    #fig is the container, ax1 is the chart inside\n",
    "# cube, square = fnCubeSquare(5)\n",
    "ax1.plot(sp500.index, sp500['Close'],'blue')\n",
    "ax1.set_ylabel(\"S&P 500\",color='blue')\n",
    "\n",
    "ax2 = ax1.twinx() #twinx copies the x-axis\n",
    "    #makes sure the 2nd chart has the same ranges of dates\n",
    "ax2.plot(aapl.index, aapl['Close'],'black', alpha=0.6)\n",
    "ax2.set_ylabel(\"AAPL\",color='black')\n",
    "# fig.show()"
   ]
  },
  {
   "cell_type": "code",
   "execution_count": 12,
   "metadata": {},
   "outputs": [],
   "source": [
    "#%% Multiple line charts diff - Yaxis using Pandas\n",
    "aapl['Close'].plot()\n",
    "sp500['Close'].plot(secondary_y=True)\n",
    "plt.show()"
   ]
  },
  {
   "cell_type": "markdown",
   "metadata": {},
   "source": [
    "### <font color = 'blue'> **Section 6 - Histograms** </font>"
   ]
  },
  {
   "cell_type": "code",
   "execution_count": 13,
   "metadata": {},
   "outputs": [],
   "source": [
    "sp500['Returns'].hist(figsize=(7,7))\n",
    "plt.show()"
   ]
  },
  {
   "cell_type": "code",
   "execution_count": 14,
   "metadata": {},
   "outputs": [],
   "source": [
    "#Providing the # of bins\n",
    "aapl['Returns'].hist(bins=100)\n",
    "plt.show()"
   ]
  },
  {
   "cell_type": "markdown",
   "metadata": {},
   "source": [
    "#### Histogram with Density Line"
   ]
  },
  {
   "cell_type": "code",
   "execution_count": 15,
   "metadata": {},
   "outputs": [],
   "source": [
    "#Histogram with density line\n",
    "from scipy.stats import norm\n",
    "import numpy as np\n",
    "returns = aapl['Returns'].dropna().values\n",
    "rtn500 = sorted(returns) #good practice to sort when going to use as a distribution\n",
    "\n",
    "#Find the mean() and std() of the sp500 returns and plot a normal distribution overlay\n",
    "avgReturn = np.mean(returns)\n",
    "stdReturn = np.std(returns)\n",
    "\n",
    "normReturns = np.linspace(avgReturn - 3*stdReturn, avgReturn + 3*stdReturn, 100)\n",
    "plt.hist(returns, bins=100)\n",
    "plt.plot(normReturns, norm.pdf(normReturns, avgReturn, 0.005))\n",
    "#plt.text(-0.03,60, r'$\\mu$ = %.3f $\\sigma$ = %.3f' % (mu500, std500))\n",
    "plt.annotate(r'$\\mu$ = %.3f $\\sigma$ = %.3f' % (avgReturn, stdReturn), xy=(.02,60))\n",
    "plt.title('Apple Returns')\n",
    "plt.show()"
   ]
  },
  {
   "cell_type": "markdown",
   "metadata": {},
   "source": [
    "### <font color = 'blue'> **Section 7 - Seaborn Package** </font>\n",
    "- http://seaborn.pydata.org/"
   ]
  },
  {
   "cell_type": "markdown",
   "metadata": {},
   "source": [
    "#### Box & Whiskers Plot (Boxplot)"
   ]
  },
  {
   "cell_type": "code",
   "execution_count": 1,
   "metadata": {
    "collapsed": true,
    "jupyter": {
     "outputs_hidden": true
    },
    "tags": []
   },
   "outputs": [],
   "source": [
    "#Seaborn box whiskers\n",
    "import seaborn as sns\n",
    "sp500['Month'] = sp500.index.month\n",
    "sns.boxplot(x=\"Month\",y=\"Returns\",data=sp500)\n",
    "plt.show()"
   ]
  },
  {
   "cell_type": "code",
   "execution_count": 17,
   "metadata": {},
   "outputs": [],
   "source": [
    "sns.lineplot(x=sp500.index, y=\"Close\", data=sp500)\n",
    "plt.show()"
   ]
  },
  {
   "cell_type": "markdown",
   "metadata": {},
   "source": [
    "### <font color = 'blue'> **Section 8 - Styles** </font>"
   ]
  },
  {
   "cell_type": "code",
   "execution_count": 2,
   "metadata": {
    "collapsed": true,
    "jupyter": {
     "outputs_hidden": true
    },
    "tags": []
   },
   "outputs": [],
   "source": [
    "import matplotlib.style as style\n",
    "style.available"
   ]
  },
  {
   "cell_type": "code",
   "execution_count": 7,
   "metadata": {
    "collapsed": true,
    "jupyter": {
     "outputs_hidden": true
    },
    "tags": []
   },
   "outputs": [],
   "source": [
    "#Code to test out different styles\n",
    "for x in style.available:\n",
    "    style.use(x)\n",
    "    print(x)\n",
    "    plt.plot(aapl.index, aapl['Close'])\n",
    "    plt.show()"
   ]
  },
  {
   "cell_type": "markdown",
   "metadata": {},
   "source": [
    "### <font color = 'blue'> **Section 9 - Plotly Package** </font>\n",
    "- allows for interactive charts\n",
    "- https://plotly.com/python/plotly-express/"
   ]
  },
  {
   "cell_type": "code",
   "execution_count": null,
   "metadata": {},
   "outputs": [],
   "source": [
    "fig = px.line(sp500, y=\"Close\", title='S&P 500')\n",
    "fig.show()"
   ]
  },
  {
   "cell_type": "code",
   "execution_count": null,
   "metadata": {},
   "outputs": [],
   "source": [
    "sp500['Ticker'] = 'SP500'\n",
    "aapl['Ticker'] = 'AAPL'\n",
    "\n",
    "intc = pd.read_csv(\"ADAPT2021/StockData/INTC.csv\", parse_dates=['Date'], index_col=['Date'])\n",
    "intc['Returns'] = intc['Close'].pct_change()\n",
    "intc['Ticker'] = 'INTC'\n",
    "\n",
    "ibm = pd.read_csv(\"ADAPT2021/StockData/IBM.csv\", parse_dates=['Date'], index_col=['Date'])\n",
    "ibm['Returns'] = ibm['Close'].pct_change()\n",
    "ibm['Ticker'] = 'IBM'\n",
    "\n",
    "stockData = pd.concat([intc,aapl,ibm])\n",
    "stockData"
   ]
  },
  {
   "cell_type": "code",
   "execution_count": null,
   "metadata": {},
   "outputs": [],
   "source": [
    "px.line(stockData, x=stockData.index, y=\"Close\", color=\"Ticker\")"
   ]
  },
  {
   "cell_type": "code",
   "execution_count": null,
   "metadata": {},
   "outputs": [],
   "source": [
    "px.line(stockData, x=stockData.index, y=\"Returns\", color=\"Ticker\")"
   ]
  },
  {
   "cell_type": "markdown",
   "metadata": {},
   "source": [
    "#### Example of Stacked Bar Chart"
   ]
  },
  {
   "cell_type": "code",
   "execution_count": null,
   "metadata": {
    "tags": []
   },
   "outputs": [],
   "source": [
    "finDeals = pd.read_excel(\"ADAPT2021/ExData/Data Manipulation Worksheet.xlsx\",sheet_name='Financing Table Clean')\n",
    "figBar = px.bar(finDeals,\n",
    "             x='INDUSTRY',\n",
    "             y='SIZE',\n",
    "             color='INDUSTRY', hover_name=\"ISSUER\",\n",
    "            title=\"Total Deal Value by Industry\")\n",
    "figBar.show()\n",
    "\n",
    "#code to save the graph as an html file:\n",
    "#figBar.write_html(file=\"ADAPT2021/Output/plotlyExample.html\",auto_open=True)"
   ]
  },
  {
   "cell_type": "markdown",
   "metadata": {},
   "source": [
    "### <font color = 'blue'> **Section 10 - Surface Volatility Plot** </font>"
   ]
  },
  {
   "cell_type": "code",
   "execution_count": 11,
   "metadata": {
    "tags": []
   },
   "outputs": [],
   "source": [
    "#%% SPY\n",
    "df = pd.read_csv(\"ADAPT2021/Week2Data/spx.csv\")\n",
    "df.set_index(['Strike'],inplace=True)\n",
    "#df.info()\n",
    "df.head(20)"
   ]
  },
  {
   "cell_type": "code",
   "execution_count": 12,
   "metadata": {
    "tags": []
   },
   "outputs": [],
   "source": [
    "Z=df.values * 100\n",
    "Y=df.index.values\n",
    "X=df.columns.astype(str).values"
   ]
  },
  {
   "cell_type": "code",
   "execution_count": 13,
   "metadata": {
    "tags": []
   },
   "outputs": [],
   "source": [
    "import plotly.graph_objs as go\n",
    "\n",
    "fig = go.Figure(\n",
    "    data=[ go.Surface(z=Z,y=Y,x=X)],\n",
    "    \n",
    "    layout=dict(\n",
    "        title = 'Vol Surface',\n",
    "        autosize = True,\n",
    "        width = 900,\n",
    "        height = 700,\n",
    "        margin = dict(l = 65, r = 50, b = 65, t = 90),\n",
    "        scene = dict(\n",
    "            aspectratio = dict(x = 1, y = 1, z = .6),\n",
    "            xaxis = dict(title='Maturity'),\n",
    "            yaxis = dict(title='Strike'),\n",
    "            zaxis = dict(title='Volatility')\n",
    "            )\n",
    "        )\n",
    "    )\n",
    "\n",
    "fig.show()"
   ]
  }
 ],
 "metadata": {
  "header": "# Id:          $Id: $\n# Copyright:   2023 J.P. Morgan Chase & Co. Incorporated.  All rights reserved.\n# Type:        research\n# Group:       AthenaAnalystTraining\n# Flags:       py3\n# Description: Jupyter notebook created by bogdan.tudose\n\n",
  "kernelspec": {
   "display_name": "Athena 3.7",
   "language": "python",
   "name": "athena_py3"
  },
  "language_info": {
   "codemirror_mode": {
    "name": "ipython",
    "version": 3
   },
   "file_extension": ".py",
   "mimetype": "text/x-python",
   "name": "python",
   "nbconvert_exporter": "python",
   "pygments_lexer": "ipython3",
   "version": "3.7.9"
  }
 },
 "nbformat": 4,
 "nbformat_minor": 4
}