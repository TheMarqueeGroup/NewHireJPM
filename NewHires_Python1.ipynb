{
 "cells": [
  {
   "cell_type": "markdown",
   "metadata": {},
   "source": [
    "# New Hire Training - Python Fundamentals: Day 1 Lesson Codes\n",
    "This Jupyter Notebook file is a summary of codes demonstrated in class by The Marquee Group during the J.P. Morgan New Hire Training."
   ]
  },
  {
   "cell_type": "markdown",
   "metadata": {
    "tags": []
   },
   "source": [
    "### Session 1 – Introduction to Python and Python Objects\n",
    "\n",
    "This session will provide an overview of the Python programming language and familiarize participants with Python’s data types and key object methods. The session will cover:\n",
    "- Using Jupyter Notebook to write and execute Python code and key shortcuts and settings\n",
    "- Creating and manipulating variables\n",
    "- Introduction to Python data types and methods including numbers, strings and lists"
   ]
  },
  {
   "cell_type": "markdown",
   "metadata": {},
   "source": [
    "#### Section 1 - Intro to Jupyter Notebooks"
   ]
  },
  {
   "cell_type": "code",
   "execution_count": null,
   "metadata": {},
   "outputs": [],
   "source": [
    "#Creating a new Jupyter Notebook:\n",
    "\"\"\"\n",
    "- New --> Athena 3.7 Notebook\n",
    "\"\"\"\n",
    "\n",
    "# Jupyter Modes:\n",
    "\"\"\"\n",
    "- EDIT Mode - Green border around a section, allows to edit code inside a Code cell or text in a Markdown cell\n",
    "- Command Mode - Blue border around a section, keyboard shortcuts allow to navigate within the entire notebook\n",
    "\n",
    "\"\"\"\n",
    "\n",
    "#Useful Shortcuts\n",
    "\"\"\"\n",
    "- Help --> Keyboard Shortcuts (Hotkey: H) will list all key shortcuts used in Jupyter Notebook\n",
    "- Most commons ones we will use during the program:\n",
    "    - CTRL + Enter to run a section at a time\n",
    "    - SHIFT + Enter to run a section and also advance forward to next section\n",
    "    - Enter (during Command Mode) - enter Edit mode to edit the text/code in current cell\n",
    "    - Esc (during Edit Mode) - exit Edit mode and return to Command Mode\n",
    "\n",
    "- Other key Command Mode shortcuts:\n",
    "    - Y - Change current cell to code type\n",
    "    - M - Change current cell to markdown type\n",
    "    - Up / Down arrow keys - Navigate to cell above/below\n",
    "    - A / B - Insert a new cell above/below\n",
    "    - C / V / X - Copy/Paste/Cut selected cells\n",
    "    - D, D - Delete selected cells\n",
    "    - O - hide/unhide output\n",
    "\n",
    "- Other key Edit Mode shortcuts:\n",
    "    - SHIFT + TAB - Provides tooltips while cursor is inside brackets of a function or method\n",
    "    - CTRL + / - Comments/Uncomments selected lines of code\n",
    "    - CTRL + D - Deletes selected lines of code\n",
    "    - Tab - auto-complete code\n",
    "\"\"\"\n",
    "\n",
    "#Markdown Tips:\n",
    "\"\"\"\n",
    "Cheat-sheet: https://www.markdownguide.org/cheat-sheet\n",
    "- #, ##, ### for headers\n",
    "- **text** to bold text\n",
    "- *text* to italicize text\n",
    "- 1., 2., 3. or - to create lists\n",
    "\"\"\"\n",
    "\n",
    "#Other Tips:\n",
    "\"\"\"\n",
    "Use # to create single line \"comments\" in Code\n",
    "Use triple quotations for multi-line comments or notes\n",
    "\"\"\""
   ]
  },
  {
   "cell_type": "markdown",
   "metadata": {},
   "source": [
    "#### Section 2 - Data Types"
   ]
  },
  {
   "cell_type": "code",
   "execution_count": null,
   "metadata": {},
   "outputs": [],
   "source": [
    "#To run this section hit CTRL + Enter\n",
    "\n",
    "x = 5 #integer\n",
    "z = 2.5 #float\n",
    "\n",
    "type(x) #this will get output if it's the last line in the cell"
   ]
  },
  {
   "cell_type": "code",
   "execution_count": null,
   "metadata": {},
   "outputs": [],
   "source": [
    "print(type(x)) #if running entire file or section, you need to surround with print\n",
    "\n",
    "x = \"Hi\" #string\n",
    "    #note how variables can be re-assigned to be a different data type\n",
    "\n",
    "greeting = \"Hello World\"\n",
    "name = \"Bogdan Tudose\"\n",
    "\n",
    "print(\"Hello \" + name)\n",
    "    #use + to concatenate\n",
    "\n",
    "# greeting + z \n",
    "    #this gives an erorr, cannot concat float to str\n",
    "\n",
    "print(greeting + str(z))"
   ]
  },
  {
   "cell_type": "markdown",
   "metadata": {},
   "source": [
    "#### Section 3 - Strings and String Methods"
   ]
  },
  {
   "cell_type": "code",
   "execution_count": null,
   "metadata": {},
   "outputs": [],
   "source": [
    "y = '6' #this is a string\n",
    "print(y * 100) #will print 6 repeated 100 times\n",
    "print(\"-\" * 50) #repeats the dash 50 times\n",
    "\n",
    "#Cleaning up numbers\n",
    "myNumber = \"$123,456,789\"\n",
    "myNumber * 2"
   ]
  },
  {
   "cell_type": "code",
   "execution_count": null,
   "metadata": {},
   "outputs": [],
   "source": [
    "y = '6' #this is a string\n",
    "print(y * 100) #will print 6 repeated 100 times\n",
    "print(\"-\" * 50) #repeats the dash 50 times\n",
    "\n",
    "#Cleaning up numbers\n",
    "myNumber = \"$123,456,789\"\n",
    "myNumber * 2"
   ]
  },
  {
   "cell_type": "code",
   "execution_count": null,
   "metadata": {},
   "outputs": [],
   "source": [
    "myNumber.strip('$') #did not change original\n",
    "myNumber"
   ]
  },
  {
   "cell_type": "code",
   "execution_count": null,
   "metadata": {},
   "outputs": [],
   "source": [
    "myNumber = myNumber.strip('$')\n",
    "myNumber = myNumber.replace(',', '')\n",
    "myNumber = int(myNumber)\n",
    "myNumber"
   ]
  },
  {
   "cell_type": "code",
   "execution_count": null,
   "metadata": {},
   "outputs": [],
   "source": [
    "#All in one step\n",
    "myNumber = \"$123,456,789\"\n",
    "myNumber = int(myNumber.strip('$').replace(',', ''))\n",
    "myNumber\n",
    "\n",
    "#variableName --> camel case\n",
    "#variable_name --> snake case"
   ]
  },
  {
   "cell_type": "code",
   "execution_count": null,
   "metadata": {},
   "outputs": [],
   "source": [
    "#%%% String Format Method\n",
    "output = \"Sales: {}, Gross Margin {:.2%}\"\n",
    "print(output.format(2000,0.3))\n",
    "\n",
    "output2 = \"Market Cap: {:>9,}\"\n",
    "mkCap1 = 1234\n",
    "mkCap2 = 3456700\n",
    "mkCap3 = 100234\n",
    "print(output2.format(mkCap1))\n",
    "print(output2.format(mkCap2))\n",
    "print(output2.format(mkCap3))"
   ]
  },
  {
   "cell_type": "markdown",
   "metadata": {},
   "source": [
    "#### Section 4 - Lists and List Methods"
   ]
  },
  {
   "cell_type": "code",
   "execution_count": null,
   "metadata": {},
   "outputs": [],
   "source": [
    "#Arrays in other programming language\n",
    "#Slides 26-32\n",
    "\n",
    "ticker1 = 'AAPL'\n",
    "ticker2 = 'SP500'\n",
    "ticker3 = 'MSFT'\n",
    "\n",
    "tickers = ['AAPL', 'SP500', 'MSFT', 'TSLA', 'NFLX']\n",
    "\n",
    "#extract info from a list\n",
    "tickers[3]"
   ]
  },
  {
   "cell_type": "code",
   "execution_count": null,
   "metadata": {},
   "outputs": [],
   "source": [
    "#change one of the itmes\n",
    "#NFLX --> AMZN\n",
    "tickers[4] = 'AMZN' #don't forget counting starts at 0\n",
    "len(tickers) #size of the array --> 5\n",
    "tickers"
   ]
  },
  {
   "cell_type": "code",
   "execution_count": null,
   "metadata": {},
   "outputs": [],
   "source": [
    "tickers[-1] = 'NFLX' #<-- this changes the last item\n",
    "\n",
    "#pull out the first 3 items\n",
    "tickers[0:3] #0 <= x < 3, 2nd number is open interval"
   ]
  },
  {
   "cell_type": "code",
   "execution_count": null,
   "metadata": {},
   "outputs": [],
   "source": [
    "#%%% List Methods\n",
    "listX = [1, 2, 3]\n",
    "listY = [100, 200, 300]\n",
    "listZ = ['a', 'b', 'c']\n",
    "\n",
    "z = 10\n",
    "\n",
    "listX.insert(1, z) #adds z as the new second item\n",
    "listX.append(listY) #adds listY as one entry\n",
    "listX[4][1] #extracts the \"200\"\n",
    "\n",
    "listX.extend(listZ) #breaks appart listZ as multiple \"rows\"\n",
    "listX"
   ]
  },
  {
   "cell_type": "code",
   "execution_count": null,
   "metadata": {},
   "outputs": [],
   "source": [
    "#%%% Copying Lists\n",
    "\n",
    "list1 = [1,2,3]\n",
    "list2 = list1 #Creates a link\n",
    "list3 = list1.copy() #copies the Values\n",
    "list4 = list1[:] #copies the Values\n",
    "\n",
    "list2[0] = 100 #this will change first item of both list1 and list2\n",
    "list4[0] = 5000 #only changes first item in list4\n",
    "list1, list2, list3, list4"
   ]
  },
  {
   "cell_type": "markdown",
   "metadata": {},
   "source": [
    "<font color = 'blue'> **Exercises** </font>\n",
    "- Try Exercises 1, 2 from Assignment 1"
   ]
  },
  {
   "cell_type": "markdown",
   "metadata": {
    "tags": []
   },
   "source": [
    "### Session 2 – Python Data Structures and Control Flow\n",
    "\n",
    "This session will provide an overview of more advanced data types in Python and common programming control flow concepts such as if statements and looping. The session will cover:\n",
    "- Differences and uses of various data structures such as sequences, lists, dictionaries, tuples and sets\n",
    "- Decision making with if/else structures and Boolean logic\n",
    "- Looping techniques with for and while loops and list comprehension"
   ]
  },
  {
   "cell_type": "markdown",
   "metadata": {},
   "source": [
    "#### Section 5 - Dictionaries & Tuples"
   ]
  },
  {
   "cell_type": "code",
   "execution_count": null,
   "metadata": {},
   "outputs": [],
   "source": [
    "#%%% Dictionaries\n",
    "#Array using your own \"names\" for the \"rows\"\n",
    "#storing information in key:value pairs\n",
    "#keys have to be unique and data is not ordered\n",
    "\n",
    "stocks = {'AAPL':'Apple Inc.', \n",
    "          'CAT':'Caterpillar', \n",
    "          'MSFT':'Microsoft',\n",
    "          'NFLX':'Netflix'}\n",
    "\n",
    "#To extract\n",
    "stocks['CAT']\n",
    "\n",
    "#To change values\n",
    "stocks['AAPL'] = \"Apple\"\n",
    "\n",
    "#To create a new entry\n",
    "stocks['FB'] = 'Facebook'\n",
    "\n",
    "#list of all row names\n",
    "print(stocks.keys())\n",
    "#list of all the values\n",
    "print(stocks.values())\n",
    "stocks"
   ]
  },
  {
   "cell_type": "code",
   "execution_count": null,
   "metadata": {},
   "outputs": [],
   "source": [
    "#%%% Tuples\n",
    "#Arrays that store constants\n",
    "#tax rates, fx rates\n",
    "taxes = (0.25, 0.35, 0.50)\n",
    "\n",
    "taxes[1] #this pulls out the 2nd item, 35%\n",
    "\n",
    "#This doesn't work:\n",
    "#taxes[0] = 0.45"
   ]
  },
  {
   "cell_type": "code",
   "execution_count": null,
   "metadata": {},
   "outputs": [],
   "source": [
    "#%%% Other Data Types\n",
    "#Sets - similar to lists but hold unique data\n",
    "\n",
    "set_nums = {100, 5, 9, 2}\n",
    "print(set_nums)\n",
    "\n",
    "#useful for removing duplicates\n",
    "tickers = ['AAPL','TSLA','MSFT','NFLX','AMZN','AAPL','NFLX']\n",
    "tickers_unique = set(tickers)\n",
    "tickers_unique"
   ]
  },
  {
   "cell_type": "markdown",
   "metadata": {},
   "source": [
    "#### Section 6 - If Statements - Boolean Logic"
   ]
  },
  {
   "cell_type": "code",
   "execution_count": null,
   "metadata": {},
   "outputs": [],
   "source": [
    "#or |\n",
    "#AND &\n",
    "#not equal to: !=\n",
    "#to compare if two things are equal use == not =\n",
    "    #one \"=\" is used to change the value of a variable\n",
    "\n",
    "x = 5\n",
    "y = 10\n",
    "\n",
    "# y = x #this changes b to be equal to x\n",
    "# y == x #this checks if y and x are the same\n",
    "\n",
    "#If Example\n",
    "if x > y:\n",
    "    print(\"x is greater than y\")\n",
    "    print(\"x is \", x)\n",
    "    if x > 100:\n",
    "        print(\"x is greater than 100\")\n",
    "elif y > x:\n",
    "    print(\"y is greater than x\")\n",
    "else:\n",
    "    print(\"x is equal to y\")\n",
    "\n",
    "print(\"this is outside the if statement\")"
   ]
  },
  {
   "cell_type": "code",
   "execution_count": null,
   "metadata": {},
   "outputs": [],
   "source": [
    "#Be careful with \"Truthy\" statements, anything that is not 0 is True\n",
    "if 10 - 2:\n",
    "    print(\"This IF is True\")"
   ]
  },
  {
   "cell_type": "markdown",
   "metadata": {},
   "source": [
    "#### Section 7 - Looping"
   ]
  },
  {
   "cell_type": "code",
   "execution_count": null,
   "metadata": {},
   "outputs": [],
   "source": [
    "#Two main types of loops: For loop, While loop\n",
    "#For Loop - you know how many times to loop\n",
    "#While Loop - you are checking a condition (loop with an IF stmt)\n",
    "    #loop will run as long as condition is True\n",
    "\n",
    "#%%% For Loop\n",
    "numbers = [2, 5, 7, 9, 13, 25]\n",
    "\n",
    "#Looping through a list\n",
    "#Print the squares and cubes of these numbers really quickly\n",
    "for num in numbers:\n",
    "    print(\"-\"*10)\n",
    "    print(num)\n",
    "    print(\"Square:\",num ** 2) #square\n",
    "    print(\"Cube:\",num ** 3) #cube"
   ]
  },
  {
   "cell_type": "code",
   "execution_count": null,
   "metadata": {},
   "outputs": [],
   "source": [
    "#More efficient:\n",
    "output = \"X:{} Square:{} Cube:{}\"\n",
    "for num in numbers:\n",
    "    print(\"-\"*20)\n",
    "    print(output.format(num, num**2, num**3))"
   ]
  },
  {
   "cell_type": "code",
   "execution_count": null,
   "metadata": {},
   "outputs": [],
   "source": [
    "#Looping \"X\" number of times\n",
    "for i in range(5): #prints numbers 0, 1, 2, ... 4\n",
    "    print(i)\n",
    "\n",
    "for x in range(2,26,2): #range(start, end, skip)\n",
    "    print(x) #prints 2, 4, 6, etc. stops at 24"
   ]
  },
  {
   "cell_type": "code",
   "execution_count": null,
   "metadata": {},
   "outputs": [],
   "source": [
    "#%%% List Comprehension\n",
    "nums = [5, 7, 9, 12]\n",
    "numsCube = [x**3 for x in nums]\n",
    "\n",
    "#Faster than doing:\n",
    "cubeList = []\n",
    "for x in nums:\n",
    "    cubeList.append(x**3)\n",
    "\n",
    "print(cubeList)\n",
    "\n",
    "#Can combine with IF Statements\n",
    "nums = [3, 50, 29, 12, 100, 62]\n",
    "squareList = [x**2 for x in nums if x > 50]\n",
    "print(squareList)"
   ]
  },
  {
   "cell_type": "code",
   "execution_count": null,
   "metadata": {},
   "outputs": [],
   "source": [
    "#%%% While Loops\n",
    "x = 5\n",
    "\n",
    "while x > 2:\n",
    "   print(x)\n",
    "#     this is an infinite loop, it never stops\n",
    "#         you can interrupt by hitting the Stop botton\n",
    "#         OR hitting I,I after code starts running"
   ]
  },
  {
   "cell_type": "code",
   "execution_count": null,
   "metadata": {},
   "outputs": [],
   "source": [
    "while x < 1000:\n",
    "    print(x)        \n",
    "    if x == 50:\n",
    "        break #can stop a while loop earlier with break command\n",
    "    x += 1  #x = x + 1"
   ]
  },
  {
   "cell_type": "code",
   "execution_count": null,
   "metadata": {},
   "outputs": [],
   "source": [
    "#Careful with using floats in If statements or While loops\n",
    "print(1.1 + 2.2 == 3.3) #Gives False\n",
    "        #actually doing 3.30000001 or 3.29999999998...\n",
    "print(\"{:.20f}\".format(3.3))\n",
    "\n",
    "round(1.1 + 2.2)  == round(3.3) #Gives True"
   ]
  },
  {
   "cell_type": "markdown",
   "metadata": {},
   "source": [
    "<font color = 'blue'> **Exercises** </font>\n",
    "- Try Exercises 3, 4, 5 from Assignment 1"
   ]
  },
  {
   "cell_type": "markdown",
   "metadata": {
    "tags": []
   },
   "source": [
    "### Session 3 – Python Functions and Introduction to NumPy\n",
    "\n",
    "This session will cover the fundamentals of creating custom functions in Python and introduce the concept of Python packages and libraries, including an overview of the NumPy package. The session will cover:\n",
    "- Creating custom functions\n",
    "- Function arguments, special parameters and docstrings\n",
    "- Lambda functions\n",
    "- Error handling using exceptions\n",
    "- Importing Python packages\n",
    "- Overview of NumPy library and NumPy array functions"
   ]
  },
  {
   "cell_type": "markdown",
   "metadata": {},
   "source": [
    "#### Section 8 - Functions"
   ]
  },
  {
   "cell_type": "code",
   "execution_count": null,
   "metadata": {},
   "outputs": [],
   "source": [
    "#%% Section 8 - Functions\n",
    "#creating your own formulas that don't exist in Python\n",
    "#also useful for creating \"mini programs\" that can be reused in your code\n",
    "    #e.g. function that imports data from files, scrapes websites, etc.\n",
    "\n",
    "def fnCube(x):\n",
    "    cube = x ** 3\n",
    "    return cube #outputting the result\n",
    "\n",
    "def fnSquare(x):\n",
    "    return x ** 2\n",
    "\n",
    "#functions do not always have to return a value\n",
    "def printGreeting(fName, lName):\n",
    "    print(\"Hello \" + fName + \" \" + lName)\n",
    "\n",
    "#functions can return multiple outputs\n",
    "def perimAreaRectangle(length, width):\n",
    "    area = length * width\n",
    "    perim = 2* (length + width)\n",
    "    return perim, area \n",
    "\n",
    "#functions have to be written and loaded in memory before using them\n",
    "    #typically declare functions at the top of our codes\n",
    "x = 5\n",
    "y = 10\n",
    "print(fnSquare(x))\n",
    "\n",
    "perim, area = perimAreaRectangle(x, y)\n",
    "fnCube(y)"
   ]
  },
  {
   "cell_type": "code",
   "execution_count": null,
   "metadata": {},
   "outputs": [],
   "source": [
    "#%%% Lambda Functions\n",
    "#Useful for writing simple \"one-liner\" functions\n",
    "\n",
    "#lambda input(s): what to do with the input\n",
    "lambdaSquare = lambda x: x**2\n",
    "\n",
    "print(lambdaSquare(25))\n",
    "\n",
    "hypLength = lambda x, y: (x**2 + y**2) ** 0.5 #could also use math.sqrt\n",
    "print(hypLength(4,3))"
   ]
  },
  {
   "cell_type": "code",
   "execution_count": null,
   "metadata": {},
   "outputs": [],
   "source": [
    "#%%% Docstrings\n",
    "#Sometimes useful to provide documentation to your function for others to know how to use it properly\n",
    "def cagr(beg, end, n):\n",
    "    \"\"\"\n",
    "    CAGR function calculates compounded annual growth rate for a simple investment.\n",
    "    beg = Beginning investment amount, at year 0\n",
    "    end = Ending investment amount at exit year\n",
    "    n = Number of years between beginning investment and exit\n",
    "    \"\"\"\n",
    "    return (end / beg) ** (1/n) - 1\n",
    "\n",
    "#SHIFT + TAB to see docstring as you are typing function\n",
    "cagr(50, 100, 5)"
   ]
  },
  {
   "cell_type": "markdown",
   "metadata": {},
   "source": [
    "#### Section 9 - Error Handling"
   ]
  },
  {
   "cell_type": "code",
   "execution_count": null,
   "metadata": {},
   "outputs": [],
   "source": [
    "#%%% Error Handling\n",
    "# - errors can be prevented by using if statements or try/except\n",
    "x = 5\n",
    "y = 0\n",
    "x / y\n",
    "#ZeroDivision Error"
   ]
  },
  {
   "cell_type": "code",
   "execution_count": null,
   "metadata": {},
   "outputs": [],
   "source": [
    "#Using If Statements\n",
    "if y == 0:\n",
    "    print(\"Cannot divide by 0\")\n",
    "else:\n",
    "    print(x/y)"
   ]
  },
  {
   "cell_type": "code",
   "execution_count": null,
   "metadata": {},
   "outputs": [],
   "source": [
    "#Using generic try/except structure\n",
    "try:\n",
    "    print(x/y)\n",
    "except:\n",
    "    print(\"Could not divide x by y\")"
   ]
  },
  {
   "cell_type": "code",
   "execution_count": null,
   "metadata": {},
   "outputs": [],
   "source": [
    "#Using more specific try/except\n",
    "# 5 / \"2\" #TypeError\n",
    "# 5 / 0 #ZeroDivisionError \n",
    "x = 5\n",
    "y = 2\n",
    "\n",
    "try:\n",
    "    #print(x/Y) #will cause a NameError as Y not defined\n",
    "    print(x/y)\n",
    "except ZeroDivisionError:\n",
    "    print(\"Cannot divide by 0\")\n",
    "except TypeError:\n",
    "    print(\"Need to ensure both numbers are floats or integers\")\n",
    "except:\n",
    "    print(\"Other error\")"
   ]
  },
  {
   "cell_type": "markdown",
   "metadata": {},
   "source": [
    "#### Section 10 - NumPy Library"
   ]
  },
  {
   "cell_type": "code",
   "execution_count": null,
   "metadata": {},
   "outputs": [],
   "source": [
    "#%% Section 9 - NumPy Library\n",
    "#Numpy package provides more advanced mathematical and statistical functions\n",
    "#Also allows for more advanced calculations with arrays and matrices\n",
    "\n",
    "#Importing the package\n",
    "import numpy as np"
   ]
  },
  {
   "cell_type": "code",
   "execution_count": null,
   "metadata": {},
   "outputs": [],
   "source": [
    "#%%% Random Numbers\n",
    "np.random.seed(42) #sets a seed for the random number generator. Set once per execution\n",
    "print(np.random.rand(10))\n",
    "print(np.random.rand(10)) #creates another list of 10 random numbers"
   ]
  },
  {
   "cell_type": "code",
   "execution_count": null,
   "metadata": {},
   "outputs": [],
   "source": [
    "# Notice setting seed again produces the same sequence as the first time\n",
    "np.random.seed(42) \n",
    "print(np.random.rand(10))"
   ]
  },
  {
   "cell_type": "code",
   "execution_count": null,
   "metadata": {},
   "outputs": [],
   "source": [
    "#Random Integers\n",
    "print(np.random.randint(1,7, size=100)) \n",
    "    #generates 100 random integer from 1 to 6 (exclusive of the 7)\n",
    "    #similar to rolling dice\n",
    "    #each number has equal chance of getting drawn"
   ]
  },
  {
   "cell_type": "code",
   "execution_count": null,
   "metadata": {},
   "outputs": [],
   "source": [
    "#Random Normal Distrubtion\n",
    "#Now the probability of a number being generated will follow the normal (bell curve) distribution.\n",
    "print(np.random.normal()) #draws a random number from the normal distribution\n",
    "print(np.random.normal(5,2)) # can specify mean and standard dev\n",
    "print(np.random.normal(5,2, 10)) # can specify mean and standard dev and size"
   ]
  },
  {
   "cell_type": "code",
   "execution_count": null,
   "metadata": {},
   "outputs": [],
   "source": [
    "#%%% Math and Statistical Functions\n",
    "results = np.random.normal(5,2, 100)\n",
    "    #notice how results variable is numpy array (not a list)\n",
    "\n",
    "#Statistical functions\n",
    "print(np.mean(results))\n",
    "print(np.std(results))\n",
    "print(np.cov(results))\n",
    "print(np.sum(results))\n",
    "\n",
    "#Other math functions\n",
    "e = np.exp(1)\n",
    "np.log(e) #natural log\n",
    "np.sqrt(144)"
   ]
  },
  {
   "cell_type": "markdown",
   "metadata": {},
   "source": [
    "<font color = 'blue'> **Exercises** </font>\n",
    "- Try Exercises 6, 7 from Assignment 1"
   ]
  },
  {
   "cell_type": "markdown",
   "metadata": {
    "tags": []
   },
   "source": [
    "### Session 4 – Introduction to Pandas Package\n",
    "\n",
    "This session will introduce participants to the Pandas package in Python and familiarize them with the DataFrame object. The session will cover:\n",
    "- Overview of uses of Pandas package\n",
    "- Creating and manipulating Pandas DataFrames and Series\n",
    "- Exploring data sets and accessing rows, columns and slices of DataFrames\n",
    "- Sorting and filtering DataFrames"
   ]
  },
  {
   "cell_type": "markdown",
   "metadata": {},
   "source": [
    "#### Section 11 - Intro to Pandas"
   ]
  },
  {
   "cell_type": "code",
   "execution_count": null,
   "metadata": {},
   "outputs": [],
   "source": [
    "#Things you can do with pandas package:\n",
    "\"\"\"\n",
    "Data Manipulation\n",
    "- Loading and cleaning data\n",
    "- Filtering, sorting\n",
    "- Access specific columns or rows\n",
    "- Rolling metrics - moving average\n",
    "- Calculate new columns --> formulas to do math\n",
    "- Pivot table\n",
    "\"\"\""
   ]
  },
  {
   "cell_type": "code",
   "execution_count": 2,
   "metadata": {},
   "outputs": [],
   "source": [
    "#%%% Importing pandas\n",
    "import pandas as pd  \n",
    "pd.__version__\n",
    "\n",
    "#pd is the common \"alias\" used in Python community\n",
    "#http://pandas.pydata.org/pandas-docs/stable/"
   ]
  },
  {
   "cell_type": "markdown",
   "metadata": {},
   "source": [
    "<font color = 'blue'> **Creating DataFrames** </font>"
   ]
  },
  {
   "cell_type": "code",
   "execution_count": 3,
   "metadata": {
    "tags": []
   },
   "outputs": [],
   "source": [
    "#%%% Creating DataFrames from simple data types\n",
    "\n",
    "#Using a dictionary\n",
    "tickers_pe = {'AAPL':25,\n",
    "             'MSFT':31,\n",
    "             'AMZN':48,\n",
    "             'FB':22,\n",
    "             'NFLX':38,\n",
    "             'TSLA':99,\n",
    "             'MCD':24,\n",
    "             'WMT':22,\n",
    "             'JNJ':16}\n",
    "df = pd.DataFrame({\"Ticker\":list(tickers_pe.keys()),\"PE\":list(tickers_pe.values())})\n",
    "df"
   ]
  },
  {
   "cell_type": "code",
   "execution_count": null,
   "metadata": {},
   "outputs": [],
   "source": [
    "#Using lists\n",
    "companies = ['A','B','C','D','E','F','G']\n",
    "prices = [100, 50, 22.35, 20, 15.90, 60.95, 44.21]\n",
    "eps = [20.22, 5, 1.13, 1.95, 2.36, -1.11, 1.83]\n",
    "\n",
    "coData = pd.DataFrame({'Company':companies, 'Price':prices, 'EPS':eps})\n",
    "coData"
   ]
  },
  {
   "cell_type": "markdown",
   "metadata": {},
   "source": [
    "<font color = 'blue'> **Importing Data** </font>"
   ]
  },
  {
   "cell_type": "code",
   "execution_count": null,
   "metadata": {},
   "outputs": [],
   "source": [
    "sp500 = pd.read_csv(\"ADAPT2021/StockData/SP500.csv\") #using relative path of project\n",
    "sp500"
   ]
  },
  {
   "cell_type": "code",
   "execution_count": null,
   "metadata": {},
   "outputs": [],
   "source": [
    "finData = pd.read_excel(\"ADAPT2021/ExData/Data Manipulation Worksheet.xlsx\", sheet_name=\"Financing Table Clean\")\n",
    "finData"
   ]
  },
  {
   "cell_type": "markdown",
   "metadata": {},
   "source": [
    "<font color = 'blue'> **Exploring Data** </font>"
   ]
  },
  {
   "cell_type": "code",
   "execution_count": null,
   "metadata": {},
   "outputs": [],
   "source": [
    "#Exploring Data\n",
    "coData.info()"
   ]
  },
  {
   "cell_type": "code",
   "execution_count": null,
   "metadata": {},
   "outputs": [],
   "source": [
    "sp500.info()\n",
    "#note how Dates are showing up as \"object\""
   ]
  },
  {
   "cell_type": "code",
   "execution_count": null,
   "metadata": {},
   "outputs": [],
   "source": [
    "finData.info()\n",
    "#note how DATE is of type datetime"
   ]
  },
  {
   "cell_type": "code",
   "execution_count": null,
   "metadata": {},
   "outputs": [],
   "source": [
    "coData.head() #first 5 rows"
   ]
  },
  {
   "cell_type": "code",
   "execution_count": null,
   "metadata": {},
   "outputs": [],
   "source": [
    "coData.tail() #last 5 rows"
   ]
  },
  {
   "cell_type": "code",
   "execution_count": null,
   "metadata": {},
   "outputs": [],
   "source": [
    "sp500.describe()"
   ]
  },
  {
   "cell_type": "markdown",
   "metadata": {},
   "source": [
    "<font color = 'blue'> **Cleaning Data** </font>"
   ]
  },
  {
   "cell_type": "code",
   "execution_count": null,
   "metadata": {},
   "outputs": [],
   "source": [
    "#%%%Setting up the Data\n",
    "#Change Dates to be numbers not text\n",
    "sp500['Date'] = pd.to_datetime(sp500['Date'])\n",
    "sp500.info() #Date column is now datetime not object"
   ]
  },
  {
   "cell_type": "code",
   "execution_count": null,
   "metadata": {},
   "outputs": [],
   "source": [
    "#changing the index to Dates column\n",
    "sp500.set_index(['Date'], drop=True, inplace = True)\n",
    "    #inplace = True is the same thing as sp500 = sp500.set_index....\n",
    "    #most pandas functions/methods don't change the original table\n",
    "    #you need to reassign to change the original DataFrame\n",
    "    #or use inplace=True\n",
    "    \n",
    "    #drop=True is the default and can be omitted, drop=False will retain the original column\n",
    "\n",
    "sp500"
   ]
  },
  {
   "cell_type": "markdown",
   "metadata": {},
   "source": [
    "#### Section 12 - Accessing/Slicing Data"
   ]
  },
  {
   "cell_type": "code",
   "execution_count": null,
   "metadata": {},
   "outputs": [],
   "source": [
    "#%%% Accessing rows\n",
    "#Method 1 - iloc - integer location - index\n",
    "    #starts with 0; row 1 in Excel = row 0 in Pandas\n",
    "\n",
    "sp500.iloc[0] #first row\n",
    "# pd.options.display.float_format = '{:.2f}'.format #to change format of floats\n",
    "\n",
    "sp500.iloc[:2]#start at beg, stop row[1]\n",
    "    #still does open interval for iloc\n",
    "\n",
    "#Method 2 - loc - new index, which is now Date\n",
    "sp500.loc['20130930']\n",
    "sp500.loc['20130930':'20131010'] #inclusive of the last date\n",
    "sp500.loc['2013-10'] #prints all October of 2013\n",
    "sp500.loc['2016'] #all 2016"
   ]
  },
  {
   "cell_type": "code",
   "execution_count": null,
   "metadata": {},
   "outputs": [],
   "source": [
    "#%%% Accessing columns\n",
    "#Method 1 - Using df['name column'], similar to Dictionaries\n",
    "sp500['Adj Close']\n",
    "\n",
    "#Method 2 - Using df.colName, does not work for columns with spaces in name\n",
    "sp500.Close\n",
    "\n",
    "#Multiple columns - provide a list of header names\n",
    "sp500[['Close','Open']]"
   ]
  },
  {
   "cell_type": "code",
   "execution_count": null,
   "metadata": {},
   "outputs": [],
   "source": [
    "#%%% Slicing parts of DataFrame\n",
    "#Method 1 - Using .loc['rowName','colName']\n",
    "sp500.loc['2014-09', 'Low'] #column name inside []\n",
    "sp500.loc['2015-09', ['Low','High']] #multiple columns can be given in a list\n",
    "\n",
    "#Method 2 - Using .loc['rowName']['colName']\n",
    "sp500.loc['2016-01']['Volume']#column name inside []\n",
    "    #Careful when using this method to \"Copy\" data into another DataFrame\n",
    "    #It could create a \"view\" instead of a copy, where tables are linked\n",
    "    #Use df.loc['row']['col].copy() or Method 1\n",
    "    #See Slide 75 for more details\n",
    "\n",
    "sp500_OC = sp500[['Open','Close']]\n",
    "sp500_HL = sp500.loc[:,['High','Low']] #another way of copying just values\n",
    "        # .loc[:] grabs all rows"
   ]
  },
  {
   "cell_type": "code",
   "execution_count": null,
   "metadata": {},
   "outputs": [],
   "source": [
    "sp500.loc[:,['High','Low']]"
   ]
  },
  {
   "cell_type": "code",
   "execution_count": null,
   "metadata": {},
   "outputs": [],
   "source": [
    "#%%% Output to Excel\n",
    "sp500_OC.to_csv(\"ADAPT2021/Output/SP500 Open Close.csv\")\n",
    "sp500_HL.to_excel(\"ADAPT2021/Output/SP500 High Low.xlsx\")"
   ]
  },
  {
   "cell_type": "markdown",
   "metadata": {},
   "source": [
    "#### Section 13 - Manipulating Data\n",
    "- Creating new columns / calculated fields\n",
    "- Sorting\n",
    "- Filtering"
   ]
  },
  {
   "cell_type": "code",
   "execution_count": null,
   "metadata": {},
   "outputs": [],
   "source": [
    "#Creating new columns\n",
    "coData['P/E'] = coData['Price'] / coData['EPS']\n",
    "coData"
   ]
  },
  {
   "cell_type": "code",
   "execution_count": null,
   "metadata": {},
   "outputs": [],
   "source": [
    "sp500['Intraday Returns'] = sp500['Close'] / sp500['Open'] - 1\n",
    "        # (Closing - Open) / Open = Close/Open - 1\n",
    "\n",
    "#Daily Returns\n",
    "sp500['Returns'] = sp500['Close'] / sp500['Close'].shift(1) - 1\n",
    "sp500['Returns 2'] = sp500['Close'].pct_change()\n",
    "# pd.options.display.float_format = '{:.4f}'.format #to change format of floats\n",
    "sp500"
   ]
  },
  {
   "cell_type": "markdown",
   "metadata": {},
   "source": [
    "<font color = 'blue'> **Sorting Data** </font>"
   ]
  },
  {
   "cell_type": "code",
   "execution_count": null,
   "metadata": {},
   "outputs": [],
   "source": [
    "#%%% Sorting Data\n",
    "\n",
    "#Descending by volume\n",
    "sp500.sort_values(['Volume'], ascending=False, inplace=True)\n",
    "#don't forget the inplace=True if you want to change the original\n",
    "#OR: sp500 = sp500.sort_values....\n",
    "\n",
    "#Sort multiple cols\n",
    "sp500.sort_values(['Volume','Close','Open'],\n",
    "                  ascending=[False,False,True],\n",
    "                  inplace=True)\n",
    "\n",
    "#Sort by Index\n",
    "sp500.sort_index(inplace=True)"
   ]
  },
  {
   "cell_type": "markdown",
   "metadata": {},
   "source": [
    "<font color = 'blue'> **Filtering Data** </font>"
   ]
  },
  {
   "cell_type": "code",
   "execution_count": null,
   "metadata": {},
   "outputs": [],
   "source": [
    "#%%% Filtering Data\n",
    "\n",
    "# posDays = sp500[ booleanMask  ]\n",
    "#where a boolean mask is a column of True/False\n",
    "\n",
    "sp500[sp500['Open'] < sp500['Close']] #method 1 - use condition directly\n",
    "sp500['isPositive'] = sp500['Open'] < sp500['Close']\n",
    "sp500[sp500['isPositive']] #method 2 - give it a column of T/F"
   ]
  },
  {
   "cell_type": "code",
   "execution_count": null,
   "metadata": {},
   "outputs": [],
   "source": [
    "coData[coData['P/E']>15]"
   ]
  },
  {
   "cell_type": "code",
   "execution_count": null,
   "metadata": {},
   "outputs": [],
   "source": [
    "coData[coData['Company']=='F']"
   ]
  },
  {
   "cell_type": "code",
   "execution_count": null,
   "metadata": {},
   "outputs": [],
   "source": [
    "finData[(finData['INDUSTRY']=='Finance') & (finData['LEAD UNDERWRITER']=='J.P. Morgan')]"
   ]
  },
  {
   "cell_type": "markdown",
   "metadata": {},
   "source": [
    "<font color = 'blue'> **Quick Plotting** </font>"
   ]
  },
  {
   "cell_type": "code",
   "execution_count": null,
   "metadata": {},
   "outputs": [],
   "source": [
    "sp500['Close'].plot()"
   ]
  },
  {
   "cell_type": "markdown",
   "metadata": {},
   "source": [
    "<font color = 'blue'> **Exercises** </font>\n",
    "- Try Exercise 8 from Assignment 1\n",
    "- Try mini Pandas assignment below"
   ]
  },
  {
   "cell_type": "code",
   "execution_count": null,
   "metadata": {},
   "outputs": [],
   "source": [
    "#%% Questions\n",
    "\n",
    "#1) Load Apple data set (StockData --> aapl.csv) \n",
    "    #and Financing Deals data set (ExData --> Data Manip --> Clean tab)\n",
    "\n",
    "#2) Find all the days of Apple where closing share price was between 70 and 75\n",
    "    \n",
    "#3) Financing Deals data (Data Manip file) --> find all deals done by GS and JPM\n",
    "\n",
    "#4) Find all the deals done in May of 2006\n",
    "#5) Find all the deals done by J.P. Morgan in Insurance\n",
    "#6) Calculate the returns of Apple's closing share price\n",
    "    #what is the average return and standard deviation?"
   ]
  }
 ],
 "metadata": {
  "header": "# Id:          $Id: Week1LessonCodes.ipynb,v 1.4 2022/03/30 17:05:46 rita.kesrouani Exp $\n# Copyright:   2021 J.P. Morgan Chase & Co. Incorporated.  All rights reserved.\n# Type:        research\n# Group:       ASGCore\n# Flags:       py2 py3\n# Description: For use only during ADAPT, October 2021\n\n",
  "kernelspec": {
   "display_name": "Athena 3.7",
   "language": "python",
   "name": "athena_py3"
  },
  "language_info": {
   "codemirror_mode": {
    "name": "ipython",
    "version": 3
   },
   "file_extension": ".py",
   "mimetype": "text/x-python",
   "name": "python",
   "nbconvert_exporter": "python",
   "pygments_lexer": "ipython3",
   "version": "3.7.9"
  }
 },
 "nbformat": 4,
 "nbformat_minor": 4
}