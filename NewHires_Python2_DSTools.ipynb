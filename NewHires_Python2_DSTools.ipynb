{
 "cells": [
  {
   "cell_type": "markdown",
   "metadata": {},
   "source": [
    "# New Hire Training - Python Fundamentals: Day 2 Lesson Codes - Data Science Tools\n",
    "This Jupyter Notebook file is a summary of codes demonstrated in class by The Marquee Group during the J.P. Morgan New Hire Training."
   ]
  },
  {
   "cell_type": "markdown",
   "metadata": {},
   "source": [
    "## Session 2 – Data Science Tools\n",
    "\n",
    "This session will provide an overview of popular statistical packages in Python including NumPy, statsmodels and SciPy. During the session participants will gain experience in performing statistical analysis, linear regressions, time series forecasting and optimization. The session will also explore some more advanced functions in Pandas, including transforming time series data using the resample, aggregate and rolling functions."
   ]
  },
  {
   "cell_type": "markdown",
   "metadata": {},
   "source": [
    "### <font color = 'blue'> **Section 1 - Importing Packages and Data** </font>"
   ]
  },
  {
   "cell_type": "code",
   "execution_count": null,
   "metadata": {},
   "outputs": [],
   "source": [
    "import pandas as pd\n",
    "import numpy as np #log, matrix calculation, random numbers\n",
    "import matplotlib.pyplot as plt\n",
    "\n",
    "import statsmodels.api as sm #Linear regression\n",
    "import statsmodels.tsa as tsa #time series analysis"
   ]
  },
  {
   "cell_type": "code",
   "execution_count": null,
   "metadata": {},
   "outputs": [],
   "source": [
    "sp500 = pd.read_csv(\"ADAPT2021/StockData/SP500.csv\",parse_dates=['Date'],index_col=['Date'])\n",
    "aapl = pd.read_csv(\"ADAPT2021/StockData/AAPL.csv\",parse_dates=['Date'],index_col=['Date'])"
   ]
  },
  {
   "cell_type": "markdown",
   "metadata": {},
   "source": [
    "### <font color = 'blue'> **Section 2 - Linear Regression Model** </font>\n",
    "- this example will calculate the Beta of Apple against S&P 500 using the CAPM model\n",
    "- CAPM: return on equity = risk free rate + beta * market risk premium\n",
    "- For simplicity, we will ignore in this example the risk free rate (assume it has been 0 for the period being analyzed) and perform a regression of AAPL's returns over S&P 500 returns\n",
    "- The slope of the line of best fit will represent AAPL's beta\n",
    "- Regression model will be run using OLS from statsmodels package"
   ]
  },
  {
   "cell_type": "markdown",
   "metadata": {},
   "source": [
    "#### Creating Calculated Fields"
   ]
  },
  {
   "cell_type": "code",
   "execution_count": null,
   "metadata": {},
   "outputs": [],
   "source": [
    "#%% Calculating Returns\n",
    "sp500['Returns'] = sp500['Close'] / sp500['Close'].shift(1) - 1\n",
    "    #daily return (Close/Prev Close) - 1\n",
    "\n",
    "aapl['Returns'] = aapl['Close'].pct_change()"
   ]
  },
  {
   "cell_type": "markdown",
   "metadata": {},
   "source": [
    "#### Merging Data Sets"
   ]
  },
  {
   "cell_type": "code",
   "execution_count": null,
   "metadata": {},
   "outputs": [],
   "source": [
    "mergedData = sp500.merge(aapl, how='inner',\n",
    "                         left_index=True, right_index=True,\n",
    "                         suffixes=(\"_SP\",\"_AAPL\"))  \n",
    "mergedData.dropna(inplace=True)\n",
    "    #same as: mergedData = mergedData.dropna()"
   ]
  },
  {
   "cell_type": "markdown",
   "metadata": {},
   "source": [
    "#### Regression Model\n",
    "Steps:\n",
    "- pick the model and the x/y variables\n",
    "- fit the model\n",
    "- look at the summary results and extract any important results (beta, r2, etc.)\n",
    "- predict new data set (out of sample), or test old data (in-sample)\n",
    "- plot predictions"
   ]
  },
  {
   "cell_type": "code",
   "execution_count": null,
   "metadata": {},
   "outputs": [],
   "source": [
    "#%% Linear Regression Model\n",
    "#run the model\n",
    "#look at the summary results\n",
    "#predict new data set (out of sample), can test old data (in-sample, backtesting)\n",
    "\n",
    "#CAPM\n",
    "# cost of equity = risk free rate + beta * MRP\n",
    "    #MRP ---> market risk premium = excess returns of the market\n",
    "    # S&P 500 as a proxy for the market\n",
    "    \n",
    "    #simplify assumption --> risk free rate = 0\n",
    "    #return of AAPL = 0 + beta * MRP\n",
    "        #MRP = S&P returns - 0\n",
    "\n",
    "capm = sm.OLS(mergedData['Returns_AAPL'], mergedData['Returns_SP'])\n",
    "         #  OLS(dependent variable, independ variable)"
   ]
  },
  {
   "cell_type": "code",
   "execution_count": null,
   "metadata": {},
   "outputs": [],
   "source": [
    "results = capm.fit()\n",
    "r2 = results.rsquared\n",
    "results.summary() \n",
    "    #look at the r2\n",
    "    #beta --> coefficient\n",
    "    #look for p-stat to be less than 0.05"
   ]
  },
  {
   "cell_type": "code",
   "execution_count": null,
   "metadata": {},
   "outputs": [],
   "source": [
    "results.params #just the coefficients or betas\n",
    "# coefficients = results.params"
   ]
  },
  {
   "cell_type": "code",
   "execution_count": null,
   "metadata": {},
   "outputs": [],
   "source": [
    "#Just the beta\n",
    "beta = results.params[0]\n",
    "beta"
   ]
  },
  {
   "cell_type": "markdown",
   "metadata": {},
   "source": [
    "#### Predicting New Results"
   ]
  },
  {
   "cell_type": "code",
   "execution_count": null,
   "metadata": {},
   "outputs": [],
   "source": [
    "#In-Sample forecast / \"Backtesting\"\n",
    "mergedData['Predictions'] = results.predict(mergedData['Returns_SP'])\n",
    "\n",
    "#Out-of sample forecast --> give your own data set to predict\n",
    "mergedData"
   ]
  },
  {
   "cell_type": "code",
   "execution_count": null,
   "metadata": {},
   "outputs": [],
   "source": [
    "#%% Visualize\n",
    "plt.plot(mergedData['Returns_SP'],mergedData['Predictions'],'red')\n",
    "plt.scatter(mergedData['Returns_SP'],mergedData['Returns_AAPL'],alpha=0.5)\n",
    "plt.show()"
   ]
  },
  {
   "cell_type": "markdown",
   "metadata": {},
   "source": [
    "#### Beta using Monthly Data\n"
   ]
  },
  {
   "cell_type": "code",
   "execution_count": 2,
   "metadata": {
    "collapsed": true,
    "jupyter": {
     "outputs_hidden": true
    },
    "tags": []
   },
   "outputs": [],
   "source": [
    "import pandas as pd\n",
    "sp500 = pd.read_csv(\"ADAPT2021/StockData/SP500.csv\",parse_dates=['Date'],index_col=['Date'])\n",
    "aapl = pd.read_csv(\"ADAPT2021/StockData/AAPL.csv\",parse_dates=['Date'],index_col=['Date'])\n",
    "\n",
    "rules = {'Open':'first', 'Close':'last', 'Volume':'sum', 'High':'max', 'Low':'min'}\n",
    "sp500_mo = sp500.resample('M').agg(rules)\n",
    "aapl_mo = aapl.resample('M').agg(rules)\n",
    "\n",
    "aapl_mo['Returns'] = aapl_mo['Close'].pct_change()\n",
    "sp500_mo['Returns'] = sp500_mo['Close'].pct_change()\n",
    "\n",
    "monthly_data = sp500_mo.merge(aapl_mo, how='outer',\n",
    "                         left_index=True, right_index=True,\n",
    "                         suffixes=(\"_SP\",\"_AAPL\")) \n",
    "\n",
    "monthly_data.dropna(inplace=True)\n",
    "monthly_data"
   ]
  },
  {
   "cell_type": "code",
   "execution_count": null,
   "metadata": {},
   "outputs": [],
   "source": [
    "monthly_data.plot.scatter(x='Returns_SP', y='Returns_AAPL')"
   ]
  },
  {
   "cell_type": "code",
   "execution_count": null,
   "metadata": {},
   "outputs": [],
   "source": [
    "capm_mo = sm.OLS(monthly_data['Returns_AAPL'], monthly_data['Returns_SP']).fit()\n",
    "monthly_data['Predictions'] = capm_mo.predict(monthly_data['Returns_SP'])\n",
    "capm_mo.summary()"
   ]
  },
  {
   "cell_type": "code",
   "execution_count": null,
   "metadata": {},
   "outputs": [],
   "source": [
    "monthly_data.plot.scatter(x='Returns_SP', y='Returns_AAPL')\n",
    "plt.plot(monthly_data['Returns_SP'],monthly_data['Predictions'],'red')\n",
    "plt.show()"
   ]
  },
  {
   "cell_type": "markdown",
   "metadata": {},
   "source": [
    "### <font color = 'blue'> **Section 3 - Time Series Regression** </font>\n",
    "- this example will run a regression using S&P 500 SMA"
   ]
  },
  {
   "cell_type": "code",
   "execution_count": null,
   "metadata": {},
   "outputs": [],
   "source": [
    "sp500 = pd.read_csv(\"ADAPT2021/StockData/SP500.csv\",parse_dates=['Date'],index_col=['Date'])\n",
    "\n",
    "\n",
    "#Simple Moving Averages\n",
    "sp500['sma'] = sp500['Close'].shift(1).rolling(window = 20, min_periods = 5).mean()\n",
    "\n",
    "sp500['sma_1'] = sp500['Close'].shift(1)\n",
    "sp500['sma_5'] = sp500['sma_1'].rolling(window = 5, min_periods = 5).mean()\n",
    "sp500['sma_20'] = sp500['sma_1'].rolling(window = 20, min_periods = 20).mean()\n",
    "sp500['sma_100'] = sp500['sma_1'].rolling(window = 100, min_periods = 100).mean()\n",
    "sp500['sma_42'] = sp500['sma_1'].rolling(window = 42, min_periods = 42).mean()\n",
    "sp500['sma_252'] = sp500['sma_1'].rolling(window = 252, min_periods = 252).mean()\n",
    "\n",
    "#Exponential Moving Averages\n",
    "sp500['ema_20'] = sp500['Close'].ewm(span=20).mean()\n",
    "\n",
    "sp500.head(25)"
   ]
  },
  {
   "cell_type": "code",
   "execution_count": null,
   "metadata": {},
   "outputs": [],
   "source": [
    "sp500[['Close','sma_42','sma_252']].plot()"
   ]
  },
  {
   "cell_type": "code",
   "execution_count": null,
   "metadata": {},
   "outputs": [],
   "source": [
    "sp500.dropna(inplace=True)\n",
    "\n",
    "# add constant to dataframe\n",
    "sp500['alpha'] = 1\n",
    "#regts = sm.OLS(sp500['Close'], sp500[['alpha','sma_1', 'sma_5', 'sma_20','sma_100','ema_20']]).fit()\n",
    "#regts = sm.OLS(sp500['Close'], sp500[['sma_20', 'ema_20']]).fit()\n",
    "regts = sm.OLS(sp500['Close'], sp500[['sma_42', 'sma_252']]).fit()\n",
    "regts.summary()"
   ]
  },
  {
   "cell_type": "code",
   "execution_count": null,
   "metadata": {},
   "outputs": [],
   "source": [
    "plt.plot(sp500.index, sp500['Close'])\n",
    "# plt.plot(sp500.index, regts.predict(sp500[['sma_20', 'ema_20']]))\n",
    "plt.plot(sp500.index, regts.predict(sp500[['sma_42', 'sma_252']]))\n",
    "plt.legend(['Close','TSA'])\n",
    "plt.show()"
   ]
  },
  {
   "cell_type": "markdown",
   "metadata": {},
   "source": [
    "### <font color = 'blue'> **Section 4 - Optimization - SciPy** </font>"
   ]
  },
  {
   "cell_type": "code",
   "execution_count": null,
   "metadata": {},
   "outputs": [],
   "source": [
    "#Import Optimization Packages\n",
    "#from scipy.optimize import minimize, Bounds, LinearConstraint #Only for scipy version >1.0\n",
    "from scipy.optimize import minimize"
   ]
  },
  {
   "cell_type": "code",
   "execution_count": null,
   "metadata": {},
   "outputs": [],
   "source": [
    "#check version of scipy\n",
    "import scipy\n",
    "scipy.__version__"
   ]
  },
  {
   "cell_type": "markdown",
   "metadata": {},
   "source": [
    "#### Optimization Function"
   ]
  },
  {
   "cell_type": "code",
   "execution_count": null,
   "metadata": {},
   "outputs": [],
   "source": [
    "def optw(w, V):\n",
    "    # Function returns the variance of the portfolio given weights and covar matrix\n",
    "    return(np.matmul(np.matmul(w,V),w))"
   ]
  },
  {
   "cell_type": "markdown",
   "metadata": {},
   "source": [
    "#### Preparing Data Set\n",
    "Load all the stock data except for the S&P500 data.\n",
    "- Resample to Monthly frequency.\n",
    "- Calculate simple returns for each stock using the adjusted close.\n",
    "- Combine the returns into a data frame where the index is date time and the columns are the individual stock returns.\n",
    "- Drop any na rows."
   ]
  },
  {
   "cell_type": "code",
   "execution_count": null,
   "metadata": {},
   "outputs": [],
   "source": [
    "import os\n",
    "stockdatalist = []\n",
    "for file in os.listdir(\"ADAPT2021/StockData/\"):\n",
    "    if file.endswith(\".csv\"):\n",
    "        stockdatalist.append(file)\n",
    "\n",
    "# Remove SP500\n",
    "stockdatalist.remove('SP500.csv')\n",
    "#stockdatalist"
   ]
  },
  {
   "cell_type": "code",
   "execution_count": null,
   "metadata": {},
   "outputs": [],
   "source": [
    "# Initalize an empty dataframe\n",
    "rtns = pd.DataFrame()\n",
    "ohlc_rule = {'Open':'first', 'High':'max',\n",
    "                'Low':'min', 'Close':'last', 'Volume':'sum', 'Adj Close':'last'}\n",
    "\n",
    "# Load the stock data, resample freq, calc simple returns, store in a df by ticker\n",
    "for fileName in stockdatalist:\n",
    "    ticker = fileName.replace(\".csv\",\"\")\n",
    "    filepath = \"ADAPT2021/StockData/{}\".format(fileName) \n",
    "    temp = pd.read_csv(filepath, index_col=0, parse_dates=True)\n",
    "    temp = temp.resample('M').agg(ohlc_rule)\n",
    "    temp = temp['Adj Close'].pct_change()\n",
    "    rtns[ticker] = temp \n",
    "\n",
    "rtns.dropna(inplace=True)\n",
    "rtns.head()\n",
    "\n",
    "#Look at specific companies:\n",
    "rtns = rtns[['PG','JNJ','IBM','AAPL','MCD','WMT','KO','NKE']]\n",
    "#rtns = rtns.iloc[:,0:5].copy() #look at first 5 companies"
   ]
  },
  {
   "cell_type": "markdown",
   "metadata": {},
   "source": [
    "#### Covariance Matrix and Avg Returns\n",
    "- Calculate the covariance matrix of the stocks.\n",
    "- Calculate the mean return of the stocks.\n",
    "- Scale the mean and covariance matrix by 100 and 10,000 respectively."
   ]
  },
  {
   "cell_type": "code",
   "execution_count": null,
   "metadata": {},
   "outputs": [],
   "source": [
    "V = np.cov(rtns, rowvar=False) * 10000\n",
    "mu = np.mean(rtns, axis=0) * 100\n",
    "n = mu.shape[0]\n",
    "\n",
    "print(\"# of tickers\",n)\n",
    "print(mu)\n",
    "print(np.std(rtns)*100)"
   ]
  },
  {
   "cell_type": "code",
   "execution_count": null,
   "metadata": {},
   "outputs": [],
   "source": [
    "#Correlation Matrix\n",
    "# rtns.corr()\n",
    "#Covariance Matrix\n",
    "#rtns.cov() * 10000"
   ]
  },
  {
   "cell_type": "markdown",
   "metadata": {},
   "source": [
    "#### Set up Constraints and Bounds\n",
    "- Set initial values for the weights and define the expected return.\n",
    "- Set up investment weights and returns constraints.\n",
    "- Set up bounds for the weights (if no short selling allowed)."
   ]
  },
  {
   "cell_type": "code",
   "execution_count": null,
   "metadata": {},
   "outputs": [],
   "source": [
    "# Set initial values for the weights and define the expected return\n",
    "w = np.matrix([1/n] * n).T #initial guess equal weights\n",
    "expect_return = 5\n",
    "\n",
    "#lower/upper limits for the weights\n",
    "#setting to 0<w<100% to restrict for short selling\n",
    "bound = (0.0,1.0)\n",
    "bounds = tuple(bound for asset in range(n))\n",
    "\n",
    "#The following are Constraints using new Scipy (version >= 1.0)\n",
    "# Weight constraint\n",
    "#A = np.matrix([1]*n)\n",
    "#constraint_1 = LinearConstraint(A, 1, 1)\n",
    "\n",
    "# for the return constraint, the asset returns are the coefficients\n",
    "#constraint_2 = LinearConstraint(mu, expect_return, np.inf)\n",
    "\n",
    "#Constraints using older scipy version\n",
    "    #x represents the variables in the opimization that are being sensitized\n",
    "    #in this case they represent the weights in each security\n",
    "\n",
    "constraint_1 = {'type': 'eq', 'fun': lambda x: np.sum(x) - 1}\n",
    "constraint_2 = {'type': 'ineq', 'fun': lambda x: np.sum(x * mu ) - expect_return}\n",
    "    #eq --> means the fun has to be exactly equal to 0\n",
    "    #ineq --> means the fun has to be positive\n",
    "    #for constraint 2 using ineq to allow for returns to be > expect_return if possible"
   ]
  },
  {
   "cell_type": "markdown",
   "metadata": {},
   "source": [
    "#### Run Optimization Model\n",
    "- Set initial values for the weights and define the expected return.\n",
    "- Set up investment weights and returns constraints."
   ]
  },
  {
   "cell_type": "code",
   "execution_count": null,
   "metadata": {},
   "outputs": [],
   "source": [
    "#Negative weights allowed (short selling)\n",
    "#weight = minimize(optw, w, (V), constraints=(constraint_1,constraint_2), options={'maxiter':1000})\n",
    "\n",
    "#No negative weights (no short selling) by adding boundaries\n",
    "weight = minimize(optw, w, (V), constraints=(constraint_1,constraint_2),bounds=bounds,options={'maxiter':1000})\n",
    "\n",
    "\n",
    "#weight\n",
    "# weight.x.shape\n",
    "weight.fun #calculated minimum variance at given expected return\n",
    "weight.x #calculated optimal weights for each ticker\n",
    "print(\"At an expected return of {:.2%} the minimum variance is {:.2f}\".format(expect_return/100,weight.fun))"
   ]
  },
  {
   "cell_type": "code",
   "execution_count": null,
   "metadata": {},
   "outputs": [],
   "source": [
    "weights = []\n",
    "variances = []\n",
    "\n",
    "for expect_return in np.linspace(0,5, 11):\n",
    "    #constraint_2 = LinearConstraint(mu, expect_return, np.inf)\n",
    "    constraint_2 = {'type': 'ineq', 'fun': lambda x: np.sum(x * mu ) - expect_return}\n",
    "    \n",
    "    #Run one of the next two lines (comment out the other)\n",
    "        #Short-selling allowed:\n",
    "    weight = minimize(optw, w, (V), constraints=(constraint_1,constraint_2), options={'maxiter':1000})\n",
    "        #No short-selling:\n",
    "    #weight = minimize(optw, w, (V), constraints=(constraint_1,constraint_2), bounds=bounds, options={'maxiter':1000})\n",
    "    \n",
    "    if weight.success == True:\n",
    "        weights.append(weight.x)\n",
    "        variances.append(weight.fun)\n",
    "    else:\n",
    "        print(\"no solution for return of \", expect_return)"
   ]
  },
  {
   "cell_type": "code",
   "execution_count": null,
   "metadata": {},
   "outputs": [],
   "source": [
    "# Find the portfolio returns and variences\n",
    "portmu = []\n",
    "portvar = []\n",
    "\n",
    "for w in weights:\n",
    "    portmu.append(w @ mu)\n",
    "    portvar.append(w @ V @ w)\n",
    "    \n",
    "portstd = np.sqrt(portvar)"
   ]
  },
  {
   "cell_type": "code",
   "execution_count": null,
   "metadata": {},
   "outputs": [],
   "source": [
    "tickers = rtns.columns\n",
    "results = pd.DataFrame(data=weights, columns=tickers)\n",
    "results['Returns'] = portmu\n",
    "results['Variances'] = portvar\n",
    "results['STD'] = portstd\n",
    "\n",
    "results"
   ]
  },
  {
   "cell_type": "code",
   "execution_count": null,
   "metadata": {},
   "outputs": [],
   "source": [
    "#Plot of Portfolio Efficient Frontier\n",
    "plt.scatter(rtns.std() * 100, rtns.mean() * 100)\n",
    "plt.scatter(portstd, portmu)\n",
    "plt.plot(portstd, portmu, linestyle='-.', color='black')\n",
    "plt.title('Portfolio Frontier')\n",
    "plt.xlim([0,10])\n",
    "plt.ylim([0,5])\n",
    "for x, y, ticker in zip(rtns.std()*100,rtns.mean()*100,rtns.mean().index):\n",
    "    plt.text(x+0.2, y, ticker, ha='left')\n",
    "plt.xlabel('Portfolio Risk (STD %)')\n",
    "plt.ylabel('Portfolio Expected Return (%)')\n",
    "plt.show()"
   ]
  }
 ],
 "metadata": {
  "header": "# Id:          $Id: $\n# Copyright:   2023 J.P. Morgan Chase & Co. Incorporated.  All rights reserved.\n# Type:        research\n# Group:       AthenaAnalystTraining\n# Flags:       py3\n# Description: Jupyter notebook created by bogdan.tudose\n\n",
  "kernelspec": {
   "display_name": "Athena 3.7",
   "language": "python",
   "name": "athena_py3"
  },
  "language_info": {
   "codemirror_mode": {
    "name": "ipython",
    "version": 3
   },
   "file_extension": ".py",
   "mimetype": "text/x-python",
   "name": "python",
   "nbconvert_exporter": "python",
   "pygments_lexer": "ipython3",
   "version": "3.7.9"
  }
 },
 "nbformat": 4,
 "nbformat_minor": 4
}