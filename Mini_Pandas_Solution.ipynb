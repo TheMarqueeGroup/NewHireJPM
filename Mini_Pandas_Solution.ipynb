{
 "cells": [
  {
   "cell_type": "markdown",
   "id": "7fa1ec27",
   "metadata": {},
   "source": [
    "# Mini Pandas Assignment Solution"
   ]
  },
  {
   "cell_type": "code",
   "execution_count": null,
   "id": "6093de43",
   "metadata": {},
   "outputs": [],
   "source": []
  },
  {
   "cell_type": "markdown",
   "id": "e89e32de",
   "metadata": {},
   "source": [
    "Type your answer in the code cell, and then press **Shift + Enter** to execute your code."
   ]
  },
  {
   "cell_type": "markdown",
   "id": "5f8b9fc3",
   "metadata": {},
   "source": [
    "If you haven't done so already, try question 8 from Week 1 Assignment 1 and the mini pandas assignment below (provided at the end of Week 1 lesson codes):\n",
    "\n",
    "Mini Pandas Assignment Questions\n",
    "1. Load Apple data set (StockData --> AAPL.csv) and Financing Deals data set (ExData --> Data Manip --> Clean tab)\n",
    "2. Find all the days of Apple where closing share price was between 70 and 75\n",
    "3. Financing Deals data (Data Manip file) --> find all deals done by GS and JPM\n",
    "4. Find all the deals done in May of 2006\n",
    "5. Find all the deals done by J.P. Morgan in Insurance\n",
    "6. Calculate the returns of Apple's closing share price. What is the average return and standard deviation?"
   ]
  },
  {
   "cell_type": "markdown",
   "id": "6f40e6ba",
   "metadata": {},
   "source": [
    "<font color = 'blue'> **Mini Pandas Assignment Solution** </font>"
   ]
  },
  {
   "cell_type": "code",
   "execution_count": 1,
   "id": "37c72156",
   "metadata": {},
   "outputs": [],
   "source": [
    "#Mini Pandas Solution\n",
    "import pandas as pd\n",
    "\n",
    "#1 Import data\n",
    "aapl = pd.read_csv(\"ADAPT2021/StockData/AAPL.csv\")\n",
    "finData = pd.read_excel(\"ADAPT2021/ExData/Data Manipulation Worksheet.xlsx\",\n",
    "                        sheet_name=\"Financing Table Clean\")"
   ]
  },
  {
   "cell_type": "code",
   "execution_count": 3,
   "id": "7be1d1e8",
   "metadata": {},
   "outputs": [],
   "source": [
    "#2 Apple trading days with closing price between 70 and 75\n",
    "q2 = aapl[ (aapl['Close']>=70) & (aapl['Close']<=75)]\n",
    "\n",
    "#Alternative solution\n",
    "#  .between(x, y, inclusive=True)\n",
    "q2_v2 = aapl[aapl['Close'].between(70,75,inclusive=True)]"
   ]
  },
  {
   "cell_type": "code",
   "execution_count": 6,
   "id": "ca1198a4",
   "metadata": {},
   "outputs": [],
   "source": [
    "#3 Deals done by Goldman or JPM\n",
    "q3 = finData[ (finData['LEAD UNDERWRITER']==\"Goldman Sachs\") | (finData['LEAD UNDERWRITER']==\"J.P. Morgan\")]\n",
    "#Alternative solution\n",
    "filterList = ['Goldman Sachs','J.P. Morgan']\n",
    "    # .isin(list)\n",
    "    \n",
    "q3_v2 = finData[finData['LEAD UNDERWRITER'].isin(filterList)]\n",
    "    #contains filter"
   ]
  },
  {
   "cell_type": "code",
   "execution_count": 10,
   "id": "606f6e0c",
   "metadata": {
    "collapsed": true,
    "jupyter": {
     "outputs_hidden": true
    }
   },
   "outputs": [],
   "source": [
    "#4 - May 2006 deals\n",
    "#Method 1 - using range of dates with and logic\n",
    "q4 = finData[(finData['DATE']>='2006-05-01') & (finData['DATE']<'2006-06-01')]\n",
    "\n",
    "#Method 2 - extracting year and month with .dt\n",
    "#Extracting days, months, years from a date ---> table['colname'].dt.year, .month, .day\n",
    "finData['Day'] = finData['DATE'].dt.day\n",
    "finData['Month'] = finData['DATE'].dt.month\n",
    "finData['Year'] = finData['DATE'].dt.year\n",
    "\n",
    "q4_v2 = finData[(finData['DATE'].dt.month == 5) & (finData['Year'] == 2006)]\n",
    "\n",
    "#Metod 3 - setting Date as index and using .loc\n",
    "finData2 = finData.set_index([\"DATE\"])\n",
    "finData2.loc['2006-05']"
   ]
  },
  {
   "cell_type": "code",
   "execution_count": 11,
   "id": "f2e42c5e",
   "metadata": {},
   "outputs": [],
   "source": [
    "#5 JPM deals in insuance\n",
    "q5 = finData[ (finData['LEAD UNDERWRITER']==\"J.P. Morgan\") & \n",
    "                  (finData['INDUSTRY']==\"Insurance\")]\n",
    "q5"
   ]
  },
  {
   "cell_type": "code",
   "execution_count": 15,
   "id": "2b16e05b",
   "metadata": {},
   "outputs": [],
   "source": [
    "#6 Apple Stats\n",
    "aapl['Returns'] = aapl['Close'].pct_change()\n",
    "avgReturn = aapl['Returns'].mean()\n",
    "stdReturn = aapl['Returns'].std()\n",
    "print(\"Avg Daily Return: {:.2%} \\nDaily STD: {:.2%}\".format(avgReturn, stdReturn))"
   ]
  }
 ],
 "metadata": {
  "header": "# Id:          $Id: $\n# Copyright:   2023 J.P. Morgan Chase & Co. Incorporated.  All rights reserved.\n# Type:        research\n# Group:       AthenaAnalystTraining\n# Flags:       py3\n# Description: Jupyter notebook created by bogdan.tudose\n\n",
  "kernelspec": {
   "display_name": "Athena 3.7",
   "language": "python",
   "name": "athena_py3"
  },
  "language_info": {
   "codemirror_mode": {
    "name": "ipython",
    "version": 3
   },
   "file_extension": ".py",
   "mimetype": "text/x-python",
   "name": "python",
   "nbconvert_exporter": "python",
   "pygments_lexer": "ipython3",
   "version": "3.7.9"
  }
 },
 "nbformat": 4,
 "nbformat_minor": 5
}