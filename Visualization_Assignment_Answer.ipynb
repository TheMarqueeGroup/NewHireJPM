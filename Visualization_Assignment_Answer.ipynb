{
 "cells": [
  {
   "cell_type": "markdown",
   "id": "eeb31cde",
   "metadata": {},
   "source": [
    "# Visualization Assignment - Answer Key"
   ]
  },
  {
   "cell_type": "markdown",
   "id": "ba16aefa",
   "metadata": {},
   "source": [
    "### Import Packages\n",
    "- by default plotly charts will be shown below Jupyter Notebook cell blocks\n",
    "- as an alternative you can uncomment the last two lines below to show the plotly graphs in their own tabs in your browser"
   ]
  },
  {
   "cell_type": "code",
   "execution_count": 1,
   "id": "f8d06ac2",
   "metadata": {},
   "outputs": [],
   "source": [
    "#%% Import Packages\n",
    "import matplotlib.pyplot as plt\n",
    "import plotly.express as px\n",
    "import pandas as pd"
   ]
  },
  {
   "cell_type": "markdown",
   "id": "7d96a1da",
   "metadata": {},
   "source": [
    "### Exercise 1 – Time Series\n",
    "\n",
    "In this exercise you will practice plotting time series data, annotating and labeling graphs. \n",
    "1. Load the Apple stock data stored in AAPL.csv into a pandas data frame.\n",
    "    - Set the index to be DateTime type.\n",
    "2. Plot the 'Adj Close' as a time series plot using plotly express .line().\n",
    "3. Label the title along with the X and Y axis.\n",
    "4. Find the global minimum and maximum. Store these values in variables so that you can annotate them on the graph.\n",
    "    - Use .min() and .max() methods to find the values.\n",
    "    - Use the .idxmin() and .idxmax() to find the location (date).\n",
    "    \n",
    "Challenge: Find and annotate the min and max for each year. This can be done in a loop.\n",
    "\n",
    "Documentation for annotations: https://plotly.com/python/reference/layout/annotations/"
   ]
  },
  {
   "cell_type": "code",
   "execution_count": 2,
   "id": "4f2cf962",
   "metadata": {
    "tags": []
   },
   "outputs": [],
   "source": [
    "aapl = pd.read_csv(\"ADAPT2021/StockData/AAPL.csv\", index_col=['Date'], parse_dates=['Date'])\n",
    "maxPrice = aapl['Adj Close'].max()\n",
    "maxPriceDate = aapl['Adj Close'].idxmax()\n",
    "minPrice = aapl['Adj Close'].min()\n",
    "minPriceDate = aapl['Adj Close'].idxmin()\n",
    "\n",
    "fig = px.line(aapl, x=aapl.index, y='Adj Close', title=\"AAPL (Source: Yahoo)\")\n",
    "fig.add_annotation(x=maxPriceDate, y=maxPrice, text=\"Max Price\", showarrow=True, arrowhead=2, arrowcolor='green',\n",
    "                  font=dict(size=12, color=\"green\"))\n",
    "\n",
    "fig.add_annotation(x=minPriceDate, y=minPrice, text=\"Min Price\", showarrow=True, arrowhead=2, arrowcolor='red',\n",
    "                  font=dict(size=12, color=\"red\"))\n",
    "fig.show()"
   ]
  },
  {
   "cell_type": "markdown",
   "id": "eacd73f0",
   "metadata": {},
   "source": [
    "#### Challenge with Plotly"
   ]
  },
  {
   "cell_type": "code",
   "execution_count": 3,
   "id": "6ca56d3f",
   "metadata": {
    "tags": []
   },
   "outputs": [],
   "source": [
    "#Challenge\n",
    "minyear = min(aapl.index.year)\n",
    "maxyear = max(aapl.index.year)\n",
    "\n",
    "fig = px.line(aapl, x=aapl.index, y='Adj Close', title=\"AAPL (Source: Yahoo)\")\n",
    "\n",
    "for year in range(minyear, maxyear + 1):\n",
    "    maxPrice = aapl.loc[str(year)]['Adj Close'].max()\n",
    "    maxPriceDate = aapl.loc[str(year)]['Adj Close'].idxmax()\n",
    "    minPrice = aapl.loc[str(year)]['Adj Close'].min()\n",
    "    minPriceDate = aapl.loc[str(year)]['Adj Close'].idxmin()\n",
    "    \n",
    "    fig.add_annotation(x=maxPriceDate, y=maxPrice, text=\"Max Price\", showarrow=True, arrowhead=2, arrowcolor='green',\n",
    "                  font=dict(size=12, color=\"green\"), hovertext=str(year))\n",
    "\n",
    "    fig.add_annotation(x=minPriceDate, y=minPrice, text=\"Min Price\", showarrow=True, arrowhead=2, arrowcolor='red',\n",
    "                  font=dict(size=12, color=\"red\"), ay=20, ax=10, hovertext=str(year))\n",
    "\n",
    "fig.show()"
   ]
  },
  {
   "cell_type": "markdown",
   "id": "3a950baf",
   "metadata": {},
   "source": [
    "#### Answer with Matplotlib"
   ]
  },
  {
   "cell_type": "code",
   "execution_count": 4,
   "id": "02a498df",
   "metadata": {
    "scrolled": true,
    "tags": []
   },
   "outputs": [],
   "source": [
    "#with matplotlib\n",
    "aapl = pd.read_csv(\"ADAPT2021/StockData/AAPL.csv\", index_col=['Date'], parse_dates=['Date'])\n",
    "maxPrice = aapl['Adj Close'].max()\n",
    "maxPriceDate = aapl['Adj Close'].idxmax()\n",
    "minPrice = aapl['Adj Close'].min()\n",
    "minPriceDate = aapl['Adj Close'].idxmin()\n",
    "\n",
    "plt.plot(aapl.index, aapl['Adj Close'])\n",
    "plt.title('AAPL (Source: Yahoo)')\n",
    "plt.annotate('Max Price', xy=(maxPriceDate,maxPrice), \n",
    "                xytext=(maxPriceDate + pd.offsets.DateOffset(years=-2), maxPrice),\n",
    "                arrowprops=dict(facecolor=\"green\", shrink=0.05))\n",
    "plt.annotate('Min Price', xy=(minPriceDate,minPrice),\n",
    "                xytext=(minPriceDate  + pd.offsets.DateOffset(years=2), minPrice), \n",
    "                arrowprops=dict(facecolor=\"red\", shrink=0.05))\n",
    "plt.show()"
   ]
  },
  {
   "cell_type": "markdown",
   "id": "1968e8b6",
   "metadata": {},
   "source": [
    "#### Challenge with Matplotlib"
   ]
  },
  {
   "cell_type": "code",
   "execution_count": 5,
   "id": "38968fa3",
   "metadata": {
    "tags": []
   },
   "outputs": [],
   "source": [
    "#challenge with matplotlib\n",
    "aapl = pd.read_csv(\"ADAPT2021/StockData/AAPL.csv\", index_col=['Date'], parse_dates=['Date'])\n",
    "\n",
    "minyear = min(aapl.index.year)\n",
    "maxyear = max(aapl.index.year)\n",
    "\n",
    "\n",
    "plt.plot(aapl.index, aapl['Adj Close'])\n",
    "plt.title('AAPL (Source: Yahoo)')\n",
    "\n",
    "for year in range(minyear, maxyear + 1):\n",
    "    maxPrice = aapl.loc[str(year)]['Adj Close'].max()\n",
    "    maxPriceDate = aapl.loc[str(year)]['Adj Close'].idxmax()\n",
    "    minPrice = aapl.loc[str(year)]['Adj Close'].min()\n",
    "    minPriceDate = aapl.loc[str(year)]['Adj Close'].idxmin()\n",
    "\n",
    "    plt.annotate('Max Price', xy=(maxPriceDate,maxPrice), \n",
    "                    xytext=(maxPriceDate + pd.offsets.DateOffset(months=-15), maxPrice+10),\n",
    "                    arrowprops=dict(facecolor=\"green\", shrink=0.05))\n",
    "    plt.annotate('Min Price', xy=(minPriceDate,minPrice),\n",
    "                    xytext=(minPriceDate  + pd.offsets.DateOffset(months=5), minPrice-10), \n",
    "                    arrowprops=dict(facecolor=\"red\", shrink=0.05))\n",
    "plt.show()"
   ]
  },
  {
   "cell_type": "markdown",
   "id": "07f5fa4e",
   "metadata": {},
   "source": [
    "### Exercise 2 – Multiple Graphs\n",
    "\n",
    "In this exercise you will practice creating multiple plots using subplots.\n",
    "1. Load the stock data for the following tickers: S&P500, AAPL, AXP, BA, CAT, CSCO.\n",
    "    - Set the index to be DateTime type.\n",
    "2. Create a subplot with 3 rows and 2 columns.\n",
    "3. Plot the ‘Adj Close’ for each ticker.\n",
    "    - Remember to set the title and label the y-axis of each graph.\n",
    "\n",
    "Challenge: Use loops to automate the process to load the data, concatenate into a single data frame. Below are some code snippets and hints to help.\n",
    "\n",
    "Documentation for subplots: https://plotly.com/python/subplots/"
   ]
  },
  {
   "cell_type": "code",
   "execution_count": 7,
   "id": "855cdb45",
   "metadata": {
    "tags": []
   },
   "outputs": [],
   "source": [
    "from plotly.subplots import make_subplots"
   ]
  },
  {
   "cell_type": "code",
   "execution_count": 9,
   "id": "6c8bd2e0",
   "metadata": {
    "tags": []
   },
   "outputs": [],
   "source": [
    "sp500 = pd.read_csv('ADAPT2021/StockData/SP500.csv', header=0, index_col=0, parse_dates=True)\n",
    "aapl = pd.read_csv('ADAPT2021/StockData/AAPL.csv', header=0, index_col=0, parse_dates=True)\n",
    "axp = pd.read_csv('ADAPT2021/StockData/AXP.csv', header=0, index_col=0, parse_dates=True)\n",
    "ba = pd.read_csv('ADAPT2021/StockData/BA.csv', header=0, index_col=0, parse_dates=True)\n",
    "cat = pd.read_csv('ADAPT2021/StockData/CAT.csv', header=0, index_col=0, parse_dates=True)\n",
    "csco = pd.read_csv('ADAPT2021/StockData/CSCO.csv', header=0, index_col=0, parse_dates=True)"
   ]
  },
  {
   "cell_type": "code",
   "execution_count": 10,
   "id": "d1b82cf0",
   "metadata": {
    "tags": []
   },
   "outputs": [],
   "source": [
    "numRows = 2\n",
    "numCols = 3\n",
    "\n",
    "fig = make_subplots(rows=numRows, cols=numCols, subplot_titles=('SP500', 'AAPL', 'AXP', 'BA', 'CAT', 'CSCO'))\n",
    "\n",
    "fig1 = px.line(sp500, x=sp500.index, y='Adj Close')\n",
    "fig2 = px.line(aapl, x=aapl.index, y='Adj Close')\n",
    "fig3 = px.line(axp, x=axp.index, y='Adj Close')\n",
    "fig4 = px.line(ba, x=ba.index, y='Adj Close')\n",
    "fig5 = px.line(cat, x=cat.index, y='Adj Close')\n",
    "fig6 = px.line(csco, x=csco.index, y='Adj Close')\n",
    "\n",
    "fig.append_trace(fig1[\"data\"][0], row=1, col=1)\n",
    "fig.append_trace(fig2[\"data\"][0], row=1, col=2)\n",
    "fig.append_trace(fig3[\"data\"][0], row=1, col=3)\n",
    "fig.append_trace(fig4[\"data\"][0], row=2, col=1)\n",
    "fig.append_trace(fig5[\"data\"][0], row=2, col=2)\n",
    "fig.append_trace(fig6[\"data\"][0], row=2, col=3)\n",
    "fig.show()"
   ]
  },
  {
   "cell_type": "markdown",
   "id": "2fb394cc",
   "metadata": {},
   "source": [
    "#### Challenge"
   ]
  },
  {
   "cell_type": "code",
   "execution_count": 12,
   "id": "9d3d4372",
   "metadata": {
    "tags": []
   },
   "outputs": [],
   "source": [
    "import math\n",
    "tickers = ['SP500', 'AAPL', 'AXP', 'BA', 'CAT', 'CSCO']\n",
    "dfs = []\n",
    "\n",
    "numRows = 2\n",
    "numCols = 3\n",
    "\n",
    "mainfig = make_subplots(rows=numRows, cols=numCols, subplot_titles=tickers)\n",
    "\n",
    "#Load all data\n",
    "for ticker in tickers:\n",
    "    df = pd.read_csv('ADAPT2021/StockData/'+ticker+'.csv', header=0, index_col=0, parse_dates=True)\n",
    "    df['Ticker'] = ticker\n",
    "    dfs.append(df)\n",
    "    \n",
    "#Create subplots\n",
    "for idx in range(len(dfs)):\n",
    "    df = dfs[idx]\n",
    "    \n",
    "    mod = (idx+1) % numCols\n",
    "    colPos = mod if mod !=0 else numCols\n",
    "    rowPos = math.ceil((idx+1)/numCols)\n",
    "    \n",
    "    \n",
    "    figPlot = px.line(df, x=df.index, y='Adj Close')\n",
    "    fig.append_trace(figPlot[\"data\"][0], row=rowPos, col=colPos)\n",
    "\n",
    "fig.show()"
   ]
  },
  {
   "cell_type": "markdown",
   "id": "de3d07d3",
   "metadata": {},
   "source": [
    "#### Challenge with Matplotlib"
   ]
  },
  {
   "cell_type": "code",
   "execution_count": 13,
   "id": "d62040d6",
   "metadata": {
    "tags": []
   },
   "outputs": [],
   "source": [
    "import math\n",
    "tickers = ['SP500', 'AAPL', 'AXP', 'BA', 'CAT', 'CSCO']\n",
    "dfs = []\n",
    "\n",
    "#Load all data\n",
    "for ticker in tickers:\n",
    "    df = pd.read_csv('ADAPT2021/StockData/'+ticker+'.csv', header=0, index_col=0, parse_dates=True)\n",
    "    df['Ticker'] = ticker\n",
    "    dfs.append(df)\n",
    "\n",
    "numRows = 2\n",
    "numCols = 3\n",
    "plt.figure(figsize=(12,6))\n",
    "for idx, ticker in enumerate(tickers): #idx = index of each ticker in list, ticker = each ticker in list\n",
    "    plt.subplot(numRows, numCols, idx+1)\n",
    "    df = dfs[idx]\n",
    "    plt.plot(df.index, df['Adj Close'])\n",
    "    plt.title(ticker)\n",
    "    \n",
    "plt.tight_layout()\n",
    "\n",
    "plt.show()"
   ]
  },
  {
   "cell_type": "markdown",
   "id": "4402d323",
   "metadata": {},
   "source": [
    "### Exercise 3 – Box Plots & Histograms\n",
    "\n",
    "In this exercise you will practice creating box plots and histograms with plotly.\n",
    "1. Load the stock data for the following tickers: S&P500, AAPL, AXP, BA, CAT, CSCO.\n",
    "2. Calculate the daily returns for each of the tickers and merge all the tables into one DataFrame.\n",
    "3. Use plotly’s .box() function to create box plots of the returns for all the tickers.\n",
    "4. Use plotly’s .histogram() function to create multiple histograms of the returns of all tickers\n",
    "    - Experiment with adding the function argument facet_col or facet_row to show the histograms side by side or on top of each other.\n"
   ]
  },
  {
   "cell_type": "markdown",
   "id": "e7842297",
   "metadata": {},
   "source": [
    "#### Boxplots with Plotly"
   ]
  },
  {
   "cell_type": "code",
   "execution_count": 14,
   "id": "ed9e6879",
   "metadata": {
    "tags": []
   },
   "outputs": [],
   "source": [
    "#Load all data\n",
    "tickers = ['SP500', 'AAPL', 'AXP', 'BA', 'CAT', 'CSCO']\n",
    "dfs = []\n",
    "for ticker in tickers:\n",
    "    df = pd.read_csv('ADAPT2021/StockData/'+ticker+'.csv', header=0, index_col=0, parse_dates=True)\n",
    "    df['Returns'] = df['Adj Close'].pct_change()\n",
    "    df['Ticker'] = ticker\n",
    "    dfs.append(df)\n",
    "    \n",
    "allData = pd.concat(dfs)"
   ]
  },
  {
   "cell_type": "code",
   "execution_count": 15,
   "id": "56b30b37",
   "metadata": {},
   "outputs": [],
   "source": [
    "allData"
   ]
  },
  {
   "cell_type": "code",
   "execution_count": 16,
   "id": "7d132e14",
   "metadata": {},
   "outputs": [],
   "source": [
    "fig = px.box(allData, y=\"Returns\", x=\"Ticker\")\n",
    "fig.show()"
   ]
  },
  {
   "cell_type": "markdown",
   "id": "12641ee1",
   "metadata": {},
   "source": [
    "#### Boxplots with Seaborn"
   ]
  },
  {
   "cell_type": "code",
   "execution_count": 17,
   "id": "327e8257",
   "metadata": {},
   "outputs": [],
   "source": [
    "import seaborn as sns\n",
    "plt.figure(figsize=(10,5))\n",
    "sns.boxplot(data=allData, x='Ticker',y='Returns')\n",
    "plt.show()"
   ]
  },
  {
   "cell_type": "markdown",
   "id": "5c54ecfa",
   "metadata": {},
   "source": [
    "#### Histograms with Plotly"
   ]
  },
  {
   "cell_type": "code",
   "execution_count": 18,
   "id": "e1076ba2",
   "metadata": {},
   "outputs": [],
   "source": [
    "figHist = px.histogram(allData, x=\"Returns\", color=\"Ticker\", facet_row='Ticker')\n",
    "figHist"
   ]
  },
  {
   "cell_type": "code",
   "execution_count": 19,
   "id": "e1e4b387",
   "metadata": {},
   "outputs": [],
   "source": [
    "figHist = px.histogram(allData, x=\"Returns\", color=\"Ticker\", facet_col='Ticker')\n",
    "figHist"
   ]
  },
  {
   "cell_type": "code",
   "execution_count": 20,
   "id": "d14f6f0d",
   "metadata": {},
   "outputs": [],
   "source": [
    "figHist = px.histogram(allData, x=\"Returns\", color=\"Ticker\")\n",
    "figHist"
   ]
  },
  {
   "cell_type": "markdown",
   "id": "34eb7f56",
   "metadata": {},
   "source": [
    "#### Histograms with Seaborn"
   ]
  },
  {
   "cell_type": "code",
   "execution_count": 25,
   "id": "ec27450c",
   "metadata": {
    "tags": []
   },
   "outputs": [],
   "source": [
    "plt.figure(figsize=(10,10))\n",
    "# sns.displot(allData.reset_index(), x=\"Returns\", col=\"Ticker\") #only works in new versions of Seaborn\n",
    "sns.distplot(allData['Returns'].dropna())"
   ]
  },
  {
   "cell_type": "code",
   "execution_count": 70,
   "id": "7849edc4",
   "metadata": {},
   "outputs": [],
   "source": [
    "df1 = allData[allData['Ticker'].isin(tickers[0:3])]\n",
    "df2 = allData[allData['Ticker'].isin(tickers[3:])]\n",
    "sns.displot(df1.reset_index(), x=\"Returns\", col=\"Ticker\")\n",
    "sns.displot(df2.reset_index(), x=\"Returns\", col=\"Ticker\")"
   ]
  }
 ],
 "metadata": {
  "header": "# Id:          $Id: $\n# Copyright:   2023 J.P. Morgan Chase & Co. Incorporated.  All rights reserved.\n# Type:        research\n# Group:       AthenaAnalystTraining\n# Flags:       py3\n# Description: Jupyter notebook created by bogdan.tudose\n\n",
  "kernelspec": {
   "display_name": "Athena 3.7",
   "language": "python",
   "name": "athena_py3"
  },
  "language_info": {
   "codemirror_mode": {
    "name": "ipython",
    "version": 3
   },
   "file_extension": ".py",
   "mimetype": "text/x-python",
   "name": "python",
   "nbconvert_exporter": "python",
   "pygments_lexer": "ipython3",
   "version": "3.7.9"
  }
 },
 "nbformat": 4,
 "nbformat_minor": 5
}